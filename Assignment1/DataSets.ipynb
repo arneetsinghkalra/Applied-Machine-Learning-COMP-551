{
  "nbformat": 4,
  "nbformat_minor": 0,
  "metadata": {
    "colab": {
      "name": "DataSets.ipynb",
      "provenance": [],
      "collapsed_sections": [
        "WcXO72EfFNAG",
        "w_VLfdf3FWp_",
        "hjMd4QnHF-CR",
        "mGNDnfq3W3to",
        "sQQPls5Vq1bJ",
        "ahqqeUnnY98B",
        "d9gxOr2rjqsx"
      ]
    },
    "kernelspec": {
      "name": "python3",
      "display_name": "Python 3"
    }
  },
  "cells": [
    {
      "cell_type": "markdown",
      "metadata": {
        "id": "sFTsGPehD0C-"
      },
      "source": [
        "# Import Datasets"
      ]
    },
    {
      "cell_type": "code",
      "metadata": {
        "id": "dlStVHXjDgGK"
      },
      "source": [
        "import numpy as np \n",
        "import pandas as pd\n",
        "import copy\n",
        "\n",
        "hep_url = 'https://raw.githubusercontent.com/sierrasgit/COMP551/main/hepatitis.csv'\n",
        "hepatitis_df = pd.read_csv(hep_url)\n",
        "\n",
        "cancer_url = 'https://raw.githubusercontent.com/sierrasgit/COMP551/main/breast_cancer_wisconsin.csv'\n",
        "breast_cancer_df = pd.read_csv(cancer_url)\n"
      ],
      "execution_count": 2,
      "outputs": []
    },
    {
      "cell_type": "markdown",
      "metadata": {
        "id": "WcXO72EfFNAG"
      },
      "source": [
        "## View Data Entries"
      ]
    },
    {
      "cell_type": "code",
      "metadata": {
        "id": "L9KzO_kZDi2b",
        "colab": {
          "base_uri": "https://localhost:8080/",
          "height": 224
        },
        "outputId": "3c00dbcb-037d-4802-9f78-c2c37592a6eb"
      },
      "source": [
        "hepatitis_df.head()"
      ],
      "execution_count": 3,
      "outputs": [
        {
          "output_type": "execute_result",
          "data": {
            "text/html": [
              "<div>\n",
              "<style scoped>\n",
              "    .dataframe tbody tr th:only-of-type {\n",
              "        vertical-align: middle;\n",
              "    }\n",
              "\n",
              "    .dataframe tbody tr th {\n",
              "        vertical-align: top;\n",
              "    }\n",
              "\n",
              "    .dataframe thead th {\n",
              "        text-align: right;\n",
              "    }\n",
              "</style>\n",
              "<table border=\"1\" class=\"dataframe\">\n",
              "  <thead>\n",
              "    <tr style=\"text-align: right;\">\n",
              "      <th></th>\n",
              "      <th>Class</th>\n",
              "      <th>AGE</th>\n",
              "      <th>SEX</th>\n",
              "      <th>STEROID</th>\n",
              "      <th>ANTIVIRALS</th>\n",
              "      <th>FATIGUE</th>\n",
              "      <th>MALAISE</th>\n",
              "      <th>ANOREXIA</th>\n",
              "      <th>LIVER_BIG</th>\n",
              "      <th>LIVER_FIRM</th>\n",
              "      <th>SPLEEN_PALPABLE</th>\n",
              "      <th>SPIDERS</th>\n",
              "      <th>ASCITES</th>\n",
              "      <th>VARICES</th>\n",
              "      <th>BILIRUBIN</th>\n",
              "      <th>ALK_PHOSPHATE</th>\n",
              "      <th>SGOT</th>\n",
              "      <th>ALBUMIN</th>\n",
              "      <th>PROTIME</th>\n",
              "      <th>HISTOLOGY</th>\n",
              "    </tr>\n",
              "  </thead>\n",
              "  <tbody>\n",
              "    <tr>\n",
              "      <th>0</th>\n",
              "      <td>2</td>\n",
              "      <td>30</td>\n",
              "      <td>2</td>\n",
              "      <td>1</td>\n",
              "      <td>2</td>\n",
              "      <td>2</td>\n",
              "      <td>2</td>\n",
              "      <td>2</td>\n",
              "      <td>1</td>\n",
              "      <td>2</td>\n",
              "      <td>2</td>\n",
              "      <td>2</td>\n",
              "      <td>2</td>\n",
              "      <td>2</td>\n",
              "      <td>1.00</td>\n",
              "      <td>85</td>\n",
              "      <td>18</td>\n",
              "      <td>4.0</td>\n",
              "      <td>?</td>\n",
              "      <td>1</td>\n",
              "    </tr>\n",
              "    <tr>\n",
              "      <th>1</th>\n",
              "      <td>2</td>\n",
              "      <td>50</td>\n",
              "      <td>1</td>\n",
              "      <td>1</td>\n",
              "      <td>2</td>\n",
              "      <td>1</td>\n",
              "      <td>2</td>\n",
              "      <td>2</td>\n",
              "      <td>1</td>\n",
              "      <td>2</td>\n",
              "      <td>2</td>\n",
              "      <td>2</td>\n",
              "      <td>2</td>\n",
              "      <td>2</td>\n",
              "      <td>0.90</td>\n",
              "      <td>135</td>\n",
              "      <td>42</td>\n",
              "      <td>3.5</td>\n",
              "      <td>?</td>\n",
              "      <td>1</td>\n",
              "    </tr>\n",
              "    <tr>\n",
              "      <th>2</th>\n",
              "      <td>2</td>\n",
              "      <td>78</td>\n",
              "      <td>1</td>\n",
              "      <td>2</td>\n",
              "      <td>2</td>\n",
              "      <td>1</td>\n",
              "      <td>2</td>\n",
              "      <td>2</td>\n",
              "      <td>2</td>\n",
              "      <td>2</td>\n",
              "      <td>2</td>\n",
              "      <td>2</td>\n",
              "      <td>2</td>\n",
              "      <td>2</td>\n",
              "      <td>0.70</td>\n",
              "      <td>96</td>\n",
              "      <td>32</td>\n",
              "      <td>4.0</td>\n",
              "      <td>?</td>\n",
              "      <td>1</td>\n",
              "    </tr>\n",
              "    <tr>\n",
              "      <th>3</th>\n",
              "      <td>2</td>\n",
              "      <td>31</td>\n",
              "      <td>1</td>\n",
              "      <td>?</td>\n",
              "      <td>1</td>\n",
              "      <td>2</td>\n",
              "      <td>2</td>\n",
              "      <td>2</td>\n",
              "      <td>2</td>\n",
              "      <td>2</td>\n",
              "      <td>2</td>\n",
              "      <td>2</td>\n",
              "      <td>2</td>\n",
              "      <td>2</td>\n",
              "      <td>0.70</td>\n",
              "      <td>46</td>\n",
              "      <td>52</td>\n",
              "      <td>4.0</td>\n",
              "      <td>80</td>\n",
              "      <td>1</td>\n",
              "    </tr>\n",
              "    <tr>\n",
              "      <th>4</th>\n",
              "      <td>2</td>\n",
              "      <td>34</td>\n",
              "      <td>1</td>\n",
              "      <td>2</td>\n",
              "      <td>2</td>\n",
              "      <td>2</td>\n",
              "      <td>2</td>\n",
              "      <td>2</td>\n",
              "      <td>2</td>\n",
              "      <td>2</td>\n",
              "      <td>2</td>\n",
              "      <td>2</td>\n",
              "      <td>2</td>\n",
              "      <td>2</td>\n",
              "      <td>1.00</td>\n",
              "      <td>?</td>\n",
              "      <td>200</td>\n",
              "      <td>4.0</td>\n",
              "      <td>?</td>\n",
              "      <td>1</td>\n",
              "    </tr>\n",
              "  </tbody>\n",
              "</table>\n",
              "</div>"
            ],
            "text/plain": [
              "   Class  AGE  SEX STEROID  ...  SGOT ALBUMIN PROTIME HISTOLOGY\n",
              "0      2   30    2       1  ...    18     4.0       ?         1\n",
              "1      2   50    1       1  ...    42     3.5       ?         1\n",
              "2      2   78    1       2  ...    32     4.0       ?         1\n",
              "3      2   31    1       ?  ...    52     4.0      80         1\n",
              "4      2   34    1       2  ...   200     4.0       ?         1\n",
              "\n",
              "[5 rows x 20 columns]"
            ]
          },
          "metadata": {
            "tags": []
          },
          "execution_count": 3
        }
      ]
    },
    {
      "cell_type": "code",
      "metadata": {
        "id": "oNp8HWrME-c3",
        "colab": {
          "base_uri": "https://localhost:8080/",
          "height": 224
        },
        "outputId": "16a48a6f-d401-408d-d03c-4cd36544ead1"
      },
      "source": [
        "breast_cancer_df.head()"
      ],
      "execution_count": 4,
      "outputs": [
        {
          "output_type": "execute_result",
          "data": {
            "text/html": [
              "<div>\n",
              "<style scoped>\n",
              "    .dataframe tbody tr th:only-of-type {\n",
              "        vertical-align: middle;\n",
              "    }\n",
              "\n",
              "    .dataframe tbody tr th {\n",
              "        vertical-align: top;\n",
              "    }\n",
              "\n",
              "    .dataframe thead th {\n",
              "        text-align: right;\n",
              "    }\n",
              "</style>\n",
              "<table border=\"1\" class=\"dataframe\">\n",
              "  <thead>\n",
              "    <tr style=\"text-align: right;\">\n",
              "      <th></th>\n",
              "      <th>id</th>\n",
              "      <th>Clump_Thickness</th>\n",
              "      <th>Uniformity_of_Cell_Size</th>\n",
              "      <th>Uniformity_of_Cell_Shape</th>\n",
              "      <th>Marginal_Adhesion</th>\n",
              "      <th>Single_Epithelial_Cell_Size</th>\n",
              "      <th>Bare_Nuclei</th>\n",
              "      <th>Bland_Chromatin</th>\n",
              "      <th>Normal_Nucleoli</th>\n",
              "      <th>Mitoses</th>\n",
              "      <th>Class</th>\n",
              "    </tr>\n",
              "  </thead>\n",
              "  <tbody>\n",
              "    <tr>\n",
              "      <th>0</th>\n",
              "      <td>1000025</td>\n",
              "      <td>5</td>\n",
              "      <td>1</td>\n",
              "      <td>1</td>\n",
              "      <td>1</td>\n",
              "      <td>2</td>\n",
              "      <td>1</td>\n",
              "      <td>3</td>\n",
              "      <td>1</td>\n",
              "      <td>1</td>\n",
              "      <td>2</td>\n",
              "    </tr>\n",
              "    <tr>\n",
              "      <th>1</th>\n",
              "      <td>1002945</td>\n",
              "      <td>5</td>\n",
              "      <td>4</td>\n",
              "      <td>4</td>\n",
              "      <td>5</td>\n",
              "      <td>7</td>\n",
              "      <td>10</td>\n",
              "      <td>3</td>\n",
              "      <td>2</td>\n",
              "      <td>1</td>\n",
              "      <td>2</td>\n",
              "    </tr>\n",
              "    <tr>\n",
              "      <th>2</th>\n",
              "      <td>1015425</td>\n",
              "      <td>3</td>\n",
              "      <td>1</td>\n",
              "      <td>1</td>\n",
              "      <td>1</td>\n",
              "      <td>2</td>\n",
              "      <td>2</td>\n",
              "      <td>3</td>\n",
              "      <td>1</td>\n",
              "      <td>1</td>\n",
              "      <td>2</td>\n",
              "    </tr>\n",
              "    <tr>\n",
              "      <th>3</th>\n",
              "      <td>1016277</td>\n",
              "      <td>6</td>\n",
              "      <td>8</td>\n",
              "      <td>8</td>\n",
              "      <td>1</td>\n",
              "      <td>3</td>\n",
              "      <td>4</td>\n",
              "      <td>3</td>\n",
              "      <td>7</td>\n",
              "      <td>1</td>\n",
              "      <td>2</td>\n",
              "    </tr>\n",
              "    <tr>\n",
              "      <th>4</th>\n",
              "      <td>1017023</td>\n",
              "      <td>4</td>\n",
              "      <td>1</td>\n",
              "      <td>1</td>\n",
              "      <td>3</td>\n",
              "      <td>2</td>\n",
              "      <td>1</td>\n",
              "      <td>3</td>\n",
              "      <td>1</td>\n",
              "      <td>1</td>\n",
              "      <td>2</td>\n",
              "    </tr>\n",
              "  </tbody>\n",
              "</table>\n",
              "</div>"
            ],
            "text/plain": [
              "        id  Clump_Thickness  ...  Mitoses  Class\n",
              "0  1000025                5  ...        1      2\n",
              "1  1002945                5  ...        1      2\n",
              "2  1015425                3  ...        1      2\n",
              "3  1016277                6  ...        1      2\n",
              "4  1017023                4  ...        1      2\n",
              "\n",
              "[5 rows x 11 columns]"
            ]
          },
          "metadata": {
            "tags": []
          },
          "execution_count": 4
        }
      ]
    },
    {
      "cell_type": "markdown",
      "metadata": {
        "id": "w_VLfdf3FWp_"
      },
      "source": [
        "## View how many rows contain '?' entries"
      ]
    },
    {
      "cell_type": "code",
      "metadata": {
        "id": "SExVQKbMFT96",
        "colab": {
          "base_uri": "https://localhost:8080/"
        },
        "outputId": "9b7ca5b8-5c62-4676-fdaf-1177766d33c1"
      },
      "source": [
        "hepatitis_df.isin(['?']).sum(axis=0)"
      ],
      "execution_count": 5,
      "outputs": [
        {
          "output_type": "execute_result",
          "data": {
            "text/plain": [
              "Class               0\n",
              "AGE                 0\n",
              "SEX                 0\n",
              "STEROID             1\n",
              "ANTIVIRALS          0\n",
              "FATIGUE             1\n",
              "MALAISE             1\n",
              "ANOREXIA            1\n",
              "LIVER_BIG          10\n",
              "LIVER_FIRM         11\n",
              "SPLEEN_PALPABLE     5\n",
              "SPIDERS             5\n",
              "ASCITES             5\n",
              "VARICES             5\n",
              "BILIRUBIN           6\n",
              "ALK_PHOSPHATE      29\n",
              "SGOT                4\n",
              "ALBUMIN            16\n",
              "PROTIME            67\n",
              "HISTOLOGY           0\n",
              "dtype: int64"
            ]
          },
          "metadata": {
            "tags": []
          },
          "execution_count": 5
        }
      ]
    },
    {
      "cell_type": "markdown",
      "metadata": {
        "id": "z9qiH3O1LqaX"
      },
      "source": [
        "Due to the high number of '?' entries within the Hepatitis data set (about 50%), we cannot delete all rows containing '?' entries, as we will be left with very few instances. Will need to conduct further analysis while cleaning this dataset."
      ]
    },
    {
      "cell_type": "code",
      "metadata": {
        "id": "rN9yRs73FciY",
        "colab": {
          "base_uri": "https://localhost:8080/"
        },
        "outputId": "3a2f4dea-18bd-43e2-cc66-f6d30ca02819"
      },
      "source": [
        "breast_cancer_df.isin(['?']).sum(axis=0)"
      ],
      "execution_count": 6,
      "outputs": [
        {
          "output_type": "execute_result",
          "data": {
            "text/plain": [
              "id                              0\n",
              "Clump_Thickness                 0\n",
              "Uniformity_of_Cell_Size         0\n",
              "Uniformity_of_Cell_Shape        0\n",
              "Marginal_Adhesion               0\n",
              "Single_Epithelial_Cell_Size     0\n",
              "Bare_Nuclei                    16\n",
              "Bland_Chromatin                 0\n",
              "Normal_Nucleoli                 0\n",
              "Mitoses                         0\n",
              "Class                           0\n",
              "dtype: int64"
            ]
          },
          "metadata": {
            "tags": []
          },
          "execution_count": 6
        }
      ]
    },
    {
      "cell_type": "markdown",
      "metadata": {
        "id": "hjMd4QnHF-CR"
      },
      "source": [
        "## Cleaning the Breast Cancer Dataset"
      ]
    },
    {
      "cell_type": "code",
      "metadata": {
        "id": "Fuf9GLePGDSG"
      },
      "source": [
        "clean_bc_df = breast_cancer_df[~breast_cancer_df.eq('?').any(1)]"
      ],
      "execution_count": 7,
      "outputs": []
    },
    {
      "cell_type": "code",
      "metadata": {
        "id": "JOapq3uvGd3q",
        "colab": {
          "base_uri": "https://localhost:8080/"
        },
        "outputId": "3b14ad1d-92e7-4038-b926-fa1c92ddf3d6"
      },
      "source": [
        "clean_bc_df.isin(['?']).sum(axis=0)"
      ],
      "execution_count": 8,
      "outputs": [
        {
          "output_type": "execute_result",
          "data": {
            "text/plain": [
              "id                             0\n",
              "Clump_Thickness                0\n",
              "Uniformity_of_Cell_Size        0\n",
              "Uniformity_of_Cell_Shape       0\n",
              "Marginal_Adhesion              0\n",
              "Single_Epithelial_Cell_Size    0\n",
              "Bare_Nuclei                    0\n",
              "Bland_Chromatin                0\n",
              "Normal_Nucleoli                0\n",
              "Mitoses                        0\n",
              "Class                          0\n",
              "dtype: int64"
            ]
          },
          "metadata": {
            "tags": []
          },
          "execution_count": 8
        }
      ]
    },
    {
      "cell_type": "code",
      "metadata": {
        "id": "LT8D2ThNGpy8",
        "colab": {
          "base_uri": "https://localhost:8080/"
        },
        "outputId": "870e6ec0-90cf-494b-d48c-c62087f6903b"
      },
      "source": [
        "clean_bc_df.nunique()"
      ],
      "execution_count": 9,
      "outputs": [
        {
          "output_type": "execute_result",
          "data": {
            "text/plain": [
              "id                             630\n",
              "Clump_Thickness                 10\n",
              "Uniformity_of_Cell_Size         10\n",
              "Uniformity_of_Cell_Shape        10\n",
              "Marginal_Adhesion               10\n",
              "Single_Epithelial_Cell_Size     10\n",
              "Bare_Nuclei                     10\n",
              "Bland_Chromatin                 10\n",
              "Normal_Nucleoli                 10\n",
              "Mitoses                          9\n",
              "Class                            2\n",
              "dtype: int64"
            ]
          },
          "metadata": {
            "tags": []
          },
          "execution_count": 9
        }
      ]
    },
    {
      "cell_type": "markdown",
      "metadata": {
        "id": "GLui-rQRHlXu"
      },
      "source": [
        "Observe there are no entries with Mitoses = 9"
      ]
    },
    {
      "cell_type": "code",
      "metadata": {
        "id": "g5s5CHw-HQMl",
        "colab": {
          "base_uri": "https://localhost:8080/"
        },
        "outputId": "a16eb54d-5a7e-4d48-f134-48b69b0b236a"
      },
      "source": [
        "clean_bc_df.Mitoses.unique()"
      ],
      "execution_count": 10,
      "outputs": [
        {
          "output_type": "execute_result",
          "data": {
            "text/plain": [
              "array([ 1,  5,  4,  2,  3,  7, 10,  8,  6])"
            ]
          },
          "metadata": {
            "tags": []
          },
          "execution_count": 10
        }
      ]
    },
    {
      "cell_type": "markdown",
      "metadata": {
        "id": "dFucFCuSIDkZ"
      },
      "source": [
        "Observe there are 630 ids and 683 rows - must have duplicate ids.\n",
        "\n"
      ]
    },
    {
      "cell_type": "code",
      "metadata": {
        "id": "ot1H2nc9H7hD",
        "colab": {
          "base_uri": "https://localhost:8080/"
        },
        "outputId": "f42edbda-e06b-47ce-d566-8aaf9bfdeaa7"
      },
      "source": [
        "clean_bc_df.shape"
      ],
      "execution_count": 11,
      "outputs": [
        {
          "output_type": "execute_result",
          "data": {
            "text/plain": [
              "(683, 11)"
            ]
          },
          "metadata": {
            "tags": []
          },
          "execution_count": 11
        }
      ]
    },
    {
      "cell_type": "code",
      "metadata": {
        "id": "zG-w017_IVoE",
        "colab": {
          "base_uri": "https://localhost:8080/",
          "height": 0
        },
        "outputId": "f88f3577-2e75-42aa-dc83-3f2d843b69f3"
      },
      "source": [
        "clean_bc_df[clean_bc_df.duplicated(subset='id',keep=False)].sort_values(by=['id'])"
      ],
      "execution_count": 12,
      "outputs": [
        {
          "output_type": "execute_result",
          "data": {
            "text/html": [
              "<div>\n",
              "<style scoped>\n",
              "    .dataframe tbody tr th:only-of-type {\n",
              "        vertical-align: middle;\n",
              "    }\n",
              "\n",
              "    .dataframe tbody tr th {\n",
              "        vertical-align: top;\n",
              "    }\n",
              "\n",
              "    .dataframe thead th {\n",
              "        text-align: right;\n",
              "    }\n",
              "</style>\n",
              "<table border=\"1\" class=\"dataframe\">\n",
              "  <thead>\n",
              "    <tr style=\"text-align: right;\">\n",
              "      <th></th>\n",
              "      <th>id</th>\n",
              "      <th>Clump_Thickness</th>\n",
              "      <th>Uniformity_of_Cell_Size</th>\n",
              "      <th>Uniformity_of_Cell_Shape</th>\n",
              "      <th>Marginal_Adhesion</th>\n",
              "      <th>Single_Epithelial_Cell_Size</th>\n",
              "      <th>Bare_Nuclei</th>\n",
              "      <th>Bland_Chromatin</th>\n",
              "      <th>Normal_Nucleoli</th>\n",
              "      <th>Mitoses</th>\n",
              "      <th>Class</th>\n",
              "    </tr>\n",
              "  </thead>\n",
              "  <tbody>\n",
              "    <tr>\n",
              "      <th>267</th>\n",
              "      <td>320675</td>\n",
              "      <td>3</td>\n",
              "      <td>3</td>\n",
              "      <td>5</td>\n",
              "      <td>2</td>\n",
              "      <td>3</td>\n",
              "      <td>10</td>\n",
              "      <td>7</td>\n",
              "      <td>1</td>\n",
              "      <td>1</td>\n",
              "      <td>4</td>\n",
              "    </tr>\n",
              "    <tr>\n",
              "      <th>272</th>\n",
              "      <td>320675</td>\n",
              "      <td>3</td>\n",
              "      <td>3</td>\n",
              "      <td>5</td>\n",
              "      <td>2</td>\n",
              "      <td>3</td>\n",
              "      <td>10</td>\n",
              "      <td>7</td>\n",
              "      <td>1</td>\n",
              "      <td>1</td>\n",
              "      <td>4</td>\n",
              "    </tr>\n",
              "    <tr>\n",
              "      <th>269</th>\n",
              "      <td>385103</td>\n",
              "      <td>1</td>\n",
              "      <td>1</td>\n",
              "      <td>1</td>\n",
              "      <td>1</td>\n",
              "      <td>2</td>\n",
              "      <td>1</td>\n",
              "      <td>3</td>\n",
              "      <td>1</td>\n",
              "      <td>1</td>\n",
              "      <td>2</td>\n",
              "    </tr>\n",
              "    <tr>\n",
              "      <th>575</th>\n",
              "      <td>385103</td>\n",
              "      <td>5</td>\n",
              "      <td>1</td>\n",
              "      <td>2</td>\n",
              "      <td>1</td>\n",
              "      <td>2</td>\n",
              "      <td>1</td>\n",
              "      <td>3</td>\n",
              "      <td>1</td>\n",
              "      <td>1</td>\n",
              "      <td>2</td>\n",
              "    </tr>\n",
              "    <tr>\n",
              "      <th>271</th>\n",
              "      <td>411453</td>\n",
              "      <td>5</td>\n",
              "      <td>1</td>\n",
              "      <td>1</td>\n",
              "      <td>1</td>\n",
              "      <td>2</td>\n",
              "      <td>1</td>\n",
              "      <td>3</td>\n",
              "      <td>1</td>\n",
              "      <td>1</td>\n",
              "      <td>2</td>\n",
              "    </tr>\n",
              "    <tr>\n",
              "      <th>...</th>\n",
              "      <td>...</td>\n",
              "      <td>...</td>\n",
              "      <td>...</td>\n",
              "      <td>...</td>\n",
              "      <td>...</td>\n",
              "      <td>...</td>\n",
              "      <td>...</td>\n",
              "      <td>...</td>\n",
              "      <td>...</td>\n",
              "      <td>...</td>\n",
              "      <td>...</td>\n",
              "    </tr>\n",
              "    <tr>\n",
              "      <th>561</th>\n",
              "      <td>1321942</td>\n",
              "      <td>5</td>\n",
              "      <td>1</td>\n",
              "      <td>1</td>\n",
              "      <td>1</td>\n",
              "      <td>2</td>\n",
              "      <td>1</td>\n",
              "      <td>3</td>\n",
              "      <td>1</td>\n",
              "      <td>1</td>\n",
              "      <td>2</td>\n",
              "    </tr>\n",
              "    <tr>\n",
              "      <th>660</th>\n",
              "      <td>1339781</td>\n",
              "      <td>1</td>\n",
              "      <td>1</td>\n",
              "      <td>1</td>\n",
              "      <td>1</td>\n",
              "      <td>2</td>\n",
              "      <td>1</td>\n",
              "      <td>2</td>\n",
              "      <td>1</td>\n",
              "      <td>1</td>\n",
              "      <td>2</td>\n",
              "    </tr>\n",
              "    <tr>\n",
              "      <th>661</th>\n",
              "      <td>1339781</td>\n",
              "      <td>4</td>\n",
              "      <td>1</td>\n",
              "      <td>1</td>\n",
              "      <td>1</td>\n",
              "      <td>2</td>\n",
              "      <td>1</td>\n",
              "      <td>3</td>\n",
              "      <td>1</td>\n",
              "      <td>1</td>\n",
              "      <td>2</td>\n",
              "    </tr>\n",
              "    <tr>\n",
              "      <th>672</th>\n",
              "      <td>1354840</td>\n",
              "      <td>2</td>\n",
              "      <td>1</td>\n",
              "      <td>1</td>\n",
              "      <td>1</td>\n",
              "      <td>2</td>\n",
              "      <td>1</td>\n",
              "      <td>3</td>\n",
              "      <td>1</td>\n",
              "      <td>1</td>\n",
              "      <td>2</td>\n",
              "    </tr>\n",
              "    <tr>\n",
              "      <th>673</th>\n",
              "      <td>1354840</td>\n",
              "      <td>5</td>\n",
              "      <td>3</td>\n",
              "      <td>2</td>\n",
              "      <td>1</td>\n",
              "      <td>3</td>\n",
              "      <td>1</td>\n",
              "      <td>1</td>\n",
              "      <td>1</td>\n",
              "      <td>1</td>\n",
              "      <td>2</td>\n",
              "    </tr>\n",
              "  </tbody>\n",
              "</table>\n",
              "<p>98 rows × 11 columns</p>\n",
              "</div>"
            ],
            "text/plain": [
              "          id  Clump_Thickness  ...  Mitoses  Class\n",
              "267   320675                3  ...        1      4\n",
              "272   320675                3  ...        1      4\n",
              "269   385103                1  ...        1      2\n",
              "575   385103                5  ...        1      2\n",
              "271   411453                5  ...        1      2\n",
              "..       ...              ...  ...      ...    ...\n",
              "561  1321942                5  ...        1      2\n",
              "660  1339781                1  ...        1      2\n",
              "661  1339781                4  ...        1      2\n",
              "672  1354840                2  ...        1      2\n",
              "673  1354840                5  ...        1      2\n",
              "\n",
              "[98 rows x 11 columns]"
            ]
          },
          "metadata": {
            "tags": []
          },
          "execution_count": 12
        }
      ]
    },
    {
      "cell_type": "markdown",
      "metadata": {
        "id": "AjwjEJUGLHwX"
      },
      "source": [
        "Due to the nature of the data, the ids of the patients can be duplicated as the data was collected in groups. Therefore, the rows containing duplicated id values will be kept."
      ]
    },
    {
      "cell_type": "markdown",
      "metadata": {
        "id": "V0hVKfiZMYUV"
      },
      "source": [
        "However, since the id values are not needed in the classification process, we will remove them from the dataset, and work with 683 rows and 9 attributes."
      ]
    },
    {
      "cell_type": "code",
      "metadata": {
        "id": "iVPQCas3Nf-o"
      },
      "source": [
        "del clean_bc_df['id']"
      ],
      "execution_count": 13,
      "outputs": []
    },
    {
      "cell_type": "markdown",
      "metadata": {
        "id": "r0fTt4_934x8"
      },
      "source": [
        "'Bare_Nuclei' coded as an object. Convert to int."
      ]
    },
    {
      "cell_type": "code",
      "metadata": {
        "id": "KKIyv_Qx3Aiu",
        "colab": {
          "base_uri": "https://localhost:8080/"
        },
        "outputId": "2ce2bddb-387e-42e9-cfe1-8d6cb0b8461d"
      },
      "source": [
        "clean_bc_df['Bare_Nuclei'] = pd.to_numeric(clean_bc_df['Bare_Nuclei'])"
      ],
      "execution_count": 14,
      "outputs": [
        {
          "output_type": "stream",
          "text": [
            "/usr/local/lib/python3.6/dist-packages/ipykernel_launcher.py:1: SettingWithCopyWarning: \n",
            "A value is trying to be set on a copy of a slice from a DataFrame.\n",
            "Try using .loc[row_indexer,col_indexer] = value instead\n",
            "\n",
            "See the caveats in the documentation: https://pandas.pydata.org/pandas-docs/stable/user_guide/indexing.html#returning-a-view-versus-a-copy\n",
            "  \"\"\"Entry point for launching an IPython kernel.\n"
          ],
          "name": "stderr"
        }
      ]
    },
    {
      "cell_type": "code",
      "metadata": {
        "id": "TqbsDZkF2zB4",
        "colab": {
          "base_uri": "https://localhost:8080/"
        },
        "outputId": "680fc54f-812f-42fb-d89d-c9bab1979124"
      },
      "source": [
        "clean_bc_df.dtypes"
      ],
      "execution_count": 15,
      "outputs": [
        {
          "output_type": "execute_result",
          "data": {
            "text/plain": [
              "Clump_Thickness                int64\n",
              "Uniformity_of_Cell_Size        int64\n",
              "Uniformity_of_Cell_Shape       int64\n",
              "Marginal_Adhesion              int64\n",
              "Single_Epithelial_Cell_Size    int64\n",
              "Bare_Nuclei                    int64\n",
              "Bland_Chromatin                int64\n",
              "Normal_Nucleoli                int64\n",
              "Mitoses                        int64\n",
              "Class                          int64\n",
              "dtype: object"
            ]
          },
          "metadata": {
            "tags": []
          },
          "execution_count": 15
        }
      ]
    },
    {
      "cell_type": "markdown",
      "metadata": {
        "id": "8jQgS4orOmKt"
      },
      "source": [
        "#### Now, we will look at the relative proportions of the classes:"
      ]
    },
    {
      "cell_type": "code",
      "metadata": {
        "id": "JYIwcpmgPVUS"
      },
      "source": [
        "# Benign Tumors\n",
        "benign = clean_bc_df[clean_bc_df['Class']==2]\n",
        "# Malignant Tumors\n",
        "malignant = clean_bc_df[clean_bc_df['Class']==4]"
      ],
      "execution_count": 16,
      "outputs": []
    },
    {
      "cell_type": "markdown",
      "metadata": {
        "id": "SXfm1_LRSMpt"
      },
      "source": [
        "65% of the instances are classified as Benign Tumors and 35% of the instances are classified as Malignant Tumors."
      ]
    },
    {
      "cell_type": "code",
      "metadata": {
        "id": "n2Q9UpOGP_pG",
        "colab": {
          "base_uri": "https://localhost:8080/"
        },
        "outputId": "5b4e47ec-f979-4cf1-9db4-656397e77dd4"
      },
      "source": [
        "benign.shape"
      ],
      "execution_count": 17,
      "outputs": [
        {
          "output_type": "execute_result",
          "data": {
            "text/plain": [
              "(444, 10)"
            ]
          },
          "metadata": {
            "tags": []
          },
          "execution_count": 17
        }
      ]
    },
    {
      "cell_type": "code",
      "metadata": {
        "id": "Ze1bTuMpQA1d",
        "colab": {
          "base_uri": "https://localhost:8080/"
        },
        "outputId": "1d86c159-4575-4d7d-f512-879b1710f8f7"
      },
      "source": [
        "malignant.shape"
      ],
      "execution_count": 18,
      "outputs": [
        {
          "output_type": "execute_result",
          "data": {
            "text/plain": [
              "(239, 10)"
            ]
          },
          "metadata": {
            "tags": []
          },
          "execution_count": 18
        }
      ]
    },
    {
      "cell_type": "code",
      "metadata": {
        "id": "YifZWB2bS_jm"
      },
      "source": [
        "import seaborn as sb\n",
        "import matplotlib.pyplot as plt"
      ],
      "execution_count": 19,
      "outputs": []
    },
    {
      "cell_type": "code",
      "metadata": {
        "id": "CLe0OimvQGHk",
        "colab": {
          "base_uri": "https://localhost:8080/",
          "height": 0
        },
        "outputId": "a389eaed-b331-4a38-d082-0777e95a0863"
      },
      "source": [
        "pd.value_counts(clean_bc_df['Class']).plot.bar(x='Class',rot=0)\n",
        "plt.show()"
      ],
      "execution_count": 20,
      "outputs": [
        {
          "output_type": "display_data",
          "data": {
            "image/png": "[encoded data removed]",
            "text/plain": [
              "<Figure size 432x288 with 1 Axes>"
            ]
          },
          "metadata": {
            "tags": [],
            "needs_background": "light"
          }
        }
      ]
    },
    {
      "cell_type": "markdown",
      "metadata": {
        "id": "mGNDnfq3W3to"
      },
      "source": [
        "## Exploratory Data Analysis of the Breast Cancer Dataset"
      ]
    },
    {
      "cell_type": "markdown",
      "metadata": {
        "id": "zOU7nbPDUviS"
      },
      "source": [
        "From the below correlation matrix, we can see that 'Uniformity of Cell Size','Uniformity of Cell Shape' and 'Bare_Nuclei' are the most highly correlated with Class. As well, we can see that 'Mitoses' is the least correlated with Class."
      ]
    },
    {
      "cell_type": "code",
      "metadata": {
        "id": "qUqBuKRXTgOy",
        "colab": {
          "base_uri": "https://localhost:8080/",
          "height": 0
        },
        "outputId": "830b58da-da5f-4805-f4bb-d7edec6e9412"
      },
      "source": [
        "sb.heatmap(clean_bc_df.corr())\n",
        "plt.show()"
      ],
      "execution_count": 21,
      "outputs": [
        {
          "output_type": "display_data",
          "data": {
            "image/png": "[encoded data removed]",
            "text/plain": [
              "<Figure size 432x288 with 2 Axes>"
            ]
          },
          "metadata": {
            "tags": [],
            "needs_background": "light"
          }
        }
      ]
    },
    {
      "cell_type": "code",
      "metadata": {
        "id": "0vt3FlCtb4tO",
        "colab": {
          "base_uri": "https://localhost:8080/",
          "height": 0
        },
        "outputId": "7e2f9dfe-eaa6-44ab-dcc9-2fd7862479fe"
      },
      "source": [
        "box1 = sb.boxplot(x=\"Class\", y=\"Uniformity_of_Cell_Shape\", data=clean_bc_df)\n",
        "box1.set(ylim=(0,11))\n",
        "plt.show()"
      ],
      "execution_count": 22,
      "outputs": [
        {
          "output_type": "display_data",
          "data": {
            "image/png": "[encoded data removed]",
            "text/plain": [
              "<Figure size 432x288 with 1 Axes>"
            ]
          },
          "metadata": {
            "tags": [],
            "needs_background": "light"
          }
        }
      ]
    },
    {
      "cell_type": "code",
      "metadata": {
        "id": "5IbtHAdcgOhK",
        "colab": {
          "base_uri": "https://localhost:8080/",
          "height": 0
        },
        "outputId": "5766b920-0bcb-49c9-ad16-11e7d198cc65"
      },
      "source": [
        "box2 = sb.boxplot(x=\"Class\", y=\"Uniformity_of_Cell_Size\", data=clean_bc_df)\n",
        "box2.set(ylim=(0,11))\n",
        "plt.show()"
      ],
      "execution_count": 23,
      "outputs": [
        {
          "output_type": "display_data",
          "data": {
            "image/png": "[encoded data removed]",
            "text/plain": [
              "<Figure size 432x288 with 1 Axes>"
            ]
          },
          "metadata": {
            "tags": [],
            "needs_background": "light"
          }
        }
      ]
    },
    {
      "cell_type": "code",
      "metadata": {
        "id": "vFDzcJ3kiBr4",
        "colab": {
          "base_uri": "https://localhost:8080/",
          "height": 0
        },
        "outputId": "97f2d53c-8eda-4b38-f433-d867c6a435d4"
      },
      "source": [
        "sb.displot(x='Bare_Nuclei',hue='Class',kind='kde',data=clean_bc_df)\n",
        "plt.show()"
      ],
      "execution_count": 24,
      "outputs": [
        {
          "output_type": "display_data",
          "data": {
            "image/png": "[encoded data removed]",
            "text/plain": [
              "<Figure size 402.375x360 with 1 Axes>"
            ]
          },
          "metadata": {
            "tags": [],
            "needs_background": "light"
          }
        }
      ]
    },
    {
      "cell_type": "markdown",
      "metadata": {
        "id": "sQQPls5Vq1bJ"
      },
      "source": [
        "## Cleaning the Hepatitis Dataset"
      ]
    },
    {
      "cell_type": "markdown",
      "metadata": {
        "id": "dzSFuEvJrSCV"
      },
      "source": [
        "As can be seen from the output below, most of the missing values come from the 'PROTIME' attribute (67/155). Therefore, we will remove this attribute from our analysis since it would remove too many rows, and we do not have enough information from this attribute to make valuable classification connections (how PROTIME relates to Class)."
      ]
    },
    {
      "cell_type": "code",
      "metadata": {
        "id": "fti--jzNrQgl",
        "colab": {
          "base_uri": "https://localhost:8080/"
        },
        "outputId": "b6e8951c-9cf3-4ca2-ff5d-f52f06d2f985"
      },
      "source": [
        "hepatitis_df.isin(['?']).sum(axis=0)"
      ],
      "execution_count": 25,
      "outputs": [
        {
          "output_type": "execute_result",
          "data": {
            "text/plain": [
              "Class               0\n",
              "AGE                 0\n",
              "SEX                 0\n",
              "STEROID             1\n",
              "ANTIVIRALS          0\n",
              "FATIGUE             1\n",
              "MALAISE             1\n",
              "ANOREXIA            1\n",
              "LIVER_BIG          10\n",
              "LIVER_FIRM         11\n",
              "SPLEEN_PALPABLE     5\n",
              "SPIDERS             5\n",
              "ASCITES             5\n",
              "VARICES             5\n",
              "BILIRUBIN           6\n",
              "ALK_PHOSPHATE      29\n",
              "SGOT                4\n",
              "ALBUMIN            16\n",
              "PROTIME            67\n",
              "HISTOLOGY           0\n",
              "dtype: int64"
            ]
          },
          "metadata": {
            "tags": []
          },
          "execution_count": 25
        }
      ]
    },
    {
      "cell_type": "code",
      "metadata": {
        "id": "35ESXTxdUpQx"
      },
      "source": [
        "del hepatitis_df['PROTIME']"
      ],
      "execution_count": 26,
      "outputs": []
    },
    {
      "cell_type": "markdown",
      "metadata": {
        "id": "g6BFbBSCWKQp"
      },
      "source": [
        "As well, we notice that the 'ALK_PHOSPHATE' attribute contains 29 missing entries. After research, it is noticed that this may not be a necessary attribute in conducting our analysis (see report).\n",
        "Therefore, we will also consider removing the attribute 'ALK_PHOSPHATE'."
      ]
    },
    {
      "cell_type": "markdown",
      "metadata": {
        "id": "LtoW2q1bU_1O"
      },
      "source": [
        "Now, we can delete the rest of the rows that contain missing values."
      ]
    },
    {
      "cell_type": "code",
      "metadata": {
        "id": "ZvJkbg0lfTdI"
      },
      "source": [
        "hepatitis_df_2 = hepatitis_df.loc[:,hepatitis_df.columns!='ALK_PHOSPHATE']"
      ],
      "execution_count": 27,
      "outputs": []
    },
    {
      "cell_type": "code",
      "metadata": {
        "id": "Scg0tBkbU1N1"
      },
      "source": [
        "clean_hep_df_1 = hepatitis_df[~hepatitis_df.eq('?').any(1)]"
      ],
      "execution_count": 28,
      "outputs": []
    },
    {
      "cell_type": "code",
      "metadata": {
        "id": "t9B0f3SZfs3f"
      },
      "source": [
        "clean_hep_df_2 = hepatitis_df_2[~hepatitis_df_2.eq('?').any(1)]"
      ],
      "execution_count": 29,
      "outputs": []
    },
    {
      "cell_type": "markdown",
      "metadata": {
        "id": "9EbLYC3GDCqh"
      },
      "source": [
        "Ensure that all columns are coded to the appropriate type"
      ]
    },
    {
      "cell_type": "code",
      "metadata": {
        "id": "ZZqIHh5J-i71",
        "colab": {
          "base_uri": "https://localhost:8080/"
        },
        "outputId": "24985147-1c64-4607-88a1-976ca30d9e20"
      },
      "source": [
        "clean_hep_df_1.dtypes"
      ],
      "execution_count": 30,
      "outputs": [
        {
          "output_type": "execute_result",
          "data": {
            "text/plain": [
              "Class               int64\n",
              "AGE                 int64\n",
              "SEX                 int64\n",
              "STEROID            object\n",
              "ANTIVIRALS          int64\n",
              "FATIGUE            object\n",
              "MALAISE            object\n",
              "ANOREXIA           object\n",
              "LIVER_BIG          object\n",
              "LIVER_FIRM         object\n",
              "SPLEEN_PALPABLE    object\n",
              "SPIDERS            object\n",
              "ASCITES            object\n",
              "VARICES            object\n",
              "BILIRUBIN          object\n",
              "ALK_PHOSPHATE      object\n",
              "SGOT               object\n",
              "ALBUMIN            object\n",
              "HISTOLOGY           int64\n",
              "dtype: object"
            ]
          },
          "metadata": {
            "tags": []
          },
          "execution_count": 30
        }
      ]
    },
    {
      "cell_type": "code",
      "metadata": {
        "id": "eL2gvP0j9y5w",
        "colab": {
          "base_uri": "https://localhost:8080/"
        },
        "outputId": "d9927b46-84e2-42fe-ebde-ed74a673a421"
      },
      "source": [
        "clean_hep_df_1['STEROID'] = pd.to_numeric(clean_hep_df_1['STEROID'])\n",
        "clean_hep_df_1['FATIGUE'] = pd.to_numeric(clean_hep_df_1['FATIGUE'])\n",
        "clean_hep_df_1['MALAISE'] = pd.to_numeric(clean_hep_df_1['MALAISE'])\n",
        "clean_hep_df_1['ANOREXIA'] = pd.to_numeric(clean_hep_df_1['ANOREXIA'])\n",
        "clean_hep_df_1['LIVER_BIG'] = pd.to_numeric(clean_hep_df_1['LIVER_BIG'])\n",
        "clean_hep_df_1['LIVER_FIRM'] = pd.to_numeric(clean_hep_df_1['LIVER_FIRM'])\n",
        "clean_hep_df_1['SPLEEN_PALPABLE'] = pd.to_numeric(clean_hep_df_1['SPLEEN_PALPABLE'])\n",
        "clean_hep_df_1['SPIDERS'] = pd.to_numeric(clean_hep_df_1['SPIDERS'])\n",
        "clean_hep_df_1['ASCITES'] = pd.to_numeric(clean_hep_df_1['ASCITES'])\n",
        "clean_hep_df_1['VARICES'] = pd.to_numeric(clean_hep_df_1['VARICES'])\n",
        "clean_hep_df_1['BILIRUBIN'] = pd.to_numeric(clean_hep_df_1['BILIRUBIN'])\n",
        "clean_hep_df_1['ALK_PHOSPHATE'] = pd.to_numeric(clean_hep_df_1['ALK_PHOSPHATE'])\n",
        "clean_hep_df_1['SGOT'] = pd.to_numeric(clean_hep_df_1['SGOT'])\n",
        "clean_hep_df_1['ALBUMIN'] = pd.to_numeric(clean_hep_df_1['ALBUMIN'])"
      ],
      "execution_count": 31,
      "outputs": [
        {
          "output_type": "stream",
          "text": [
            "/usr/local/lib/python3.6/dist-packages/ipykernel_launcher.py:1: SettingWithCopyWarning: \n",
            "A value is trying to be set on a copy of a slice from a DataFrame.\n",
            "Try using .loc[row_indexer,col_indexer] = value instead\n",
            "\n",
            "See the caveats in the documentation: https://pandas.pydata.org/pandas-docs/stable/user_guide/indexing.html#returning-a-view-versus-a-copy\n",
            "  \"\"\"Entry point for launching an IPython kernel.\n",
            "/usr/local/lib/python3.6/dist-packages/ipykernel_launcher.py:2: SettingWithCopyWarning: \n",
            "A value is trying to be set on a copy of a slice from a DataFrame.\n",
            "Try using .loc[row_indexer,col_indexer] = value instead\n",
            "\n",
            "See the caveats in the documentation: https://pandas.pydata.org/pandas-docs/stable/user_guide/indexing.html#returning-a-view-versus-a-copy\n",
            "  \n",
            "/usr/local/lib/python3.6/dist-packages/ipykernel_launcher.py:3: SettingWithCopyWarning: \n",
            "A value is trying to be set on a copy of a slice from a DataFrame.\n",
            "Try using .loc[row_indexer,col_indexer] = value instead\n",
            "\n",
            "See the caveats in the documentation: https://pandas.pydata.org/pandas-docs/stable/user_guide/indexing.html#returning-a-view-versus-a-copy\n",
            "  This is separate from the ipykernel package so we can avoid doing imports until\n",
            "/usr/local/lib/python3.6/dist-packages/ipykernel_launcher.py:4: SettingWithCopyWarning: \n",
            "A value is trying to be set on a copy of a slice from a DataFrame.\n",
            "Try using .loc[row_indexer,col_indexer] = value instead\n",
            "\n",
            "See the caveats in the documentation: https://pandas.pydata.org/pandas-docs/stable/user_guide/indexing.html#returning-a-view-versus-a-copy\n",
            "  after removing the cwd from sys.path.\n",
            "/usr/local/lib/python3.6/dist-packages/ipykernel_launcher.py:5: SettingWithCopyWarning: \n",
            "A value is trying to be set on a copy of a slice from a DataFrame.\n",
            "Try using .loc[row_indexer,col_indexer] = value instead\n",
            "\n",
            "See the caveats in the documentation: https://pandas.pydata.org/pandas-docs/stable/user_guide/indexing.html#returning-a-view-versus-a-copy\n",
            "  \"\"\"\n",
            "/usr/local/lib/python3.6/dist-packages/ipykernel_launcher.py:6: SettingWithCopyWarning: \n",
            "A value is trying to be set on a copy of a slice from a DataFrame.\n",
            "Try using .loc[row_indexer,col_indexer] = value instead\n",
            "\n",
            "See the caveats in the documentation: https://pandas.pydata.org/pandas-docs/stable/user_guide/indexing.html#returning-a-view-versus-a-copy\n",
            "  \n",
            "/usr/local/lib/python3.6/dist-packages/ipykernel_launcher.py:7: SettingWithCopyWarning: \n",
            "A value is trying to be set on a copy of a slice from a DataFrame.\n",
            "Try using .loc[row_indexer,col_indexer] = value instead\n",
            "\n",
            "See the caveats in the documentation: https://pandas.pydata.org/pandas-docs/stable/user_guide/indexing.html#returning-a-view-versus-a-copy\n",
            "  import sys\n",
            "/usr/local/lib/python3.6/dist-packages/ipykernel_launcher.py:8: SettingWithCopyWarning: \n",
            "A value is trying to be set on a copy of a slice from a DataFrame.\n",
            "Try using .loc[row_indexer,col_indexer] = value instead\n",
            "\n",
            "See the caveats in the documentation: https://pandas.pydata.org/pandas-docs/stable/user_guide/indexing.html#returning-a-view-versus-a-copy\n",
            "  \n",
            "/usr/local/lib/python3.6/dist-packages/ipykernel_launcher.py:9: SettingWithCopyWarning: \n",
            "A value is trying to be set on a copy of a slice from a DataFrame.\n",
            "Try using .loc[row_indexer,col_indexer] = value instead\n",
            "\n",
            "See the caveats in the documentation: https://pandas.pydata.org/pandas-docs/stable/user_guide/indexing.html#returning-a-view-versus-a-copy\n",
            "  if __name__ == '__main__':\n",
            "/usr/local/lib/python3.6/dist-packages/ipykernel_launcher.py:10: SettingWithCopyWarning: \n",
            "A value is trying to be set on a copy of a slice from a DataFrame.\n",
            "Try using .loc[row_indexer,col_indexer] = value instead\n",
            "\n",
            "See the caveats in the documentation: https://pandas.pydata.org/pandas-docs/stable/user_guide/indexing.html#returning-a-view-versus-a-copy\n",
            "  # Remove the CWD from sys.path while we load stuff.\n",
            "/usr/local/lib/python3.6/dist-packages/ipykernel_launcher.py:11: SettingWithCopyWarning: \n",
            "A value is trying to be set on a copy of a slice from a DataFrame.\n",
            "Try using .loc[row_indexer,col_indexer] = value instead\n",
            "\n",
            "See the caveats in the documentation: https://pandas.pydata.org/pandas-docs/stable/user_guide/indexing.html#returning-a-view-versus-a-copy\n",
            "  # This is added back by InteractiveShellApp.init_path()\n",
            "/usr/local/lib/python3.6/dist-packages/ipykernel_launcher.py:12: SettingWithCopyWarning: \n",
            "A value is trying to be set on a copy of a slice from a DataFrame.\n",
            "Try using .loc[row_indexer,col_indexer] = value instead\n",
            "\n",
            "See the caveats in the documentation: https://pandas.pydata.org/pandas-docs/stable/user_guide/indexing.html#returning-a-view-versus-a-copy\n",
            "  if sys.path[0] == '':\n",
            "/usr/local/lib/python3.6/dist-packages/ipykernel_launcher.py:13: SettingWithCopyWarning: \n",
            "A value is trying to be set on a copy of a slice from a DataFrame.\n",
            "Try using .loc[row_indexer,col_indexer] = value instead\n",
            "\n",
            "See the caveats in the documentation: https://pandas.pydata.org/pandas-docs/stable/user_guide/indexing.html#returning-a-view-versus-a-copy\n",
            "  del sys.path[0]\n",
            "/usr/local/lib/python3.6/dist-packages/ipykernel_launcher.py:14: SettingWithCopyWarning: \n",
            "A value is trying to be set on a copy of a slice from a DataFrame.\n",
            "Try using .loc[row_indexer,col_indexer] = value instead\n",
            "\n",
            "See the caveats in the documentation: https://pandas.pydata.org/pandas-docs/stable/user_guide/indexing.html#returning-a-view-versus-a-copy\n",
            "  \n"
          ],
          "name": "stderr"
        }
      ]
    },
    {
      "cell_type": "code",
      "metadata": {
        "id": "Pf4DuJ4jDGXV",
        "colab": {
          "base_uri": "https://localhost:8080/"
        },
        "outputId": "60f45a72-2376-4171-af69-a88e39c73c79"
      },
      "source": [
        "clean_hep_df_2['STEROID'] = pd.to_numeric(clean_hep_df_2['STEROID'])\n",
        "clean_hep_df_2['FATIGUE'] = pd.to_numeric(clean_hep_df_2['FATIGUE'])\n",
        "clean_hep_df_2['MALAISE'] = pd.to_numeric(clean_hep_df_2['MALAISE'])\n",
        "clean_hep_df_2['ANOREXIA'] = pd.to_numeric(clean_hep_df_2['ANOREXIA'])\n",
        "clean_hep_df_2['LIVER_BIG'] = pd.to_numeric(clean_hep_df_2['LIVER_BIG'])\n",
        "clean_hep_df_2['LIVER_FIRM'] = pd.to_numeric(clean_hep_df_2['LIVER_FIRM'])\n",
        "clean_hep_df_2['SPLEEN_PALPABLE'] = pd.to_numeric(clean_hep_df_2['SPLEEN_PALPABLE'])\n",
        "clean_hep_df_2['SPIDERS'] = pd.to_numeric(clean_hep_df_2['SPIDERS'])\n",
        "clean_hep_df_2['ASCITES'] = pd.to_numeric(clean_hep_df_2['ASCITES'])\n",
        "clean_hep_df_2['VARICES'] = pd.to_numeric(clean_hep_df_2['VARICES'])\n",
        "clean_hep_df_2['BILIRUBIN'] = pd.to_numeric(clean_hep_df_2['BILIRUBIN'])\n",
        "clean_hep_df_2['SGOT'] = pd.to_numeric(clean_hep_df_2['SGOT'])\n",
        "clean_hep_df_2['ALBUMIN'] = pd.to_numeric(clean_hep_df_2['ALBUMIN'])"
      ],
      "execution_count": 32,
      "outputs": [
        {
          "output_type": "stream",
          "text": [
            "/usr/local/lib/python3.6/dist-packages/ipykernel_launcher.py:1: SettingWithCopyWarning: \n",
            "A value is trying to be set on a copy of a slice from a DataFrame.\n",
            "Try using .loc[row_indexer,col_indexer] = value instead\n",
            "\n",
            "See the caveats in the documentation: https://pandas.pydata.org/pandas-docs/stable/user_guide/indexing.html#returning-a-view-versus-a-copy\n",
            "  \"\"\"Entry point for launching an IPython kernel.\n",
            "/usr/local/lib/python3.6/dist-packages/ipykernel_launcher.py:2: SettingWithCopyWarning: \n",
            "A value is trying to be set on a copy of a slice from a DataFrame.\n",
            "Try using .loc[row_indexer,col_indexer] = value instead\n",
            "\n",
            "See the caveats in the documentation: https://pandas.pydata.org/pandas-docs/stable/user_guide/indexing.html#returning-a-view-versus-a-copy\n",
            "  \n",
            "/usr/local/lib/python3.6/dist-packages/ipykernel_launcher.py:3: SettingWithCopyWarning: \n",
            "A value is trying to be set on a copy of a slice from a DataFrame.\n",
            "Try using .loc[row_indexer,col_indexer] = value instead\n",
            "\n",
            "See the caveats in the documentation: https://pandas.pydata.org/pandas-docs/stable/user_guide/indexing.html#returning-a-view-versus-a-copy\n",
            "  This is separate from the ipykernel package so we can avoid doing imports until\n",
            "/usr/local/lib/python3.6/dist-packages/ipykernel_launcher.py:4: SettingWithCopyWarning: \n",
            "A value is trying to be set on a copy of a slice from a DataFrame.\n",
            "Try using .loc[row_indexer,col_indexer] = value instead\n",
            "\n",
            "See the caveats in the documentation: https://pandas.pydata.org/pandas-docs/stable/user_guide/indexing.html#returning-a-view-versus-a-copy\n",
            "  after removing the cwd from sys.path.\n",
            "/usr/local/lib/python3.6/dist-packages/ipykernel_launcher.py:5: SettingWithCopyWarning: \n",
            "A value is trying to be set on a copy of a slice from a DataFrame.\n",
            "Try using .loc[row_indexer,col_indexer] = value instead\n",
            "\n",
            "See the caveats in the documentation: https://pandas.pydata.org/pandas-docs/stable/user_guide/indexing.html#returning-a-view-versus-a-copy\n",
            "  \"\"\"\n",
            "/usr/local/lib/python3.6/dist-packages/ipykernel_launcher.py:6: SettingWithCopyWarning: \n",
            "A value is trying to be set on a copy of a slice from a DataFrame.\n",
            "Try using .loc[row_indexer,col_indexer] = value instead\n",
            "\n",
            "See the caveats in the documentation: https://pandas.pydata.org/pandas-docs/stable/user_guide/indexing.html#returning-a-view-versus-a-copy\n",
            "  \n",
            "/usr/local/lib/python3.6/dist-packages/ipykernel_launcher.py:7: SettingWithCopyWarning: \n",
            "A value is trying to be set on a copy of a slice from a DataFrame.\n",
            "Try using .loc[row_indexer,col_indexer] = value instead\n",
            "\n",
            "See the caveats in the documentation: https://pandas.pydata.org/pandas-docs/stable/user_guide/indexing.html#returning-a-view-versus-a-copy\n",
            "  import sys\n",
            "/usr/local/lib/python3.6/dist-packages/ipykernel_launcher.py:8: SettingWithCopyWarning: \n",
            "A value is trying to be set on a copy of a slice from a DataFrame.\n",
            "Try using .loc[row_indexer,col_indexer] = value instead\n",
            "\n",
            "See the caveats in the documentation: https://pandas.pydata.org/pandas-docs/stable/user_guide/indexing.html#returning-a-view-versus-a-copy\n",
            "  \n",
            "/usr/local/lib/python3.6/dist-packages/ipykernel_launcher.py:9: SettingWithCopyWarning: \n",
            "A value is trying to be set on a copy of a slice from a DataFrame.\n",
            "Try using .loc[row_indexer,col_indexer] = value instead\n",
            "\n",
            "See the caveats in the documentation: https://pandas.pydata.org/pandas-docs/stable/user_guide/indexing.html#returning-a-view-versus-a-copy\n",
            "  if __name__ == '__main__':\n",
            "/usr/local/lib/python3.6/dist-packages/ipykernel_launcher.py:10: SettingWithCopyWarning: \n",
            "A value is trying to be set on a copy of a slice from a DataFrame.\n",
            "Try using .loc[row_indexer,col_indexer] = value instead\n",
            "\n",
            "See the caveats in the documentation: https://pandas.pydata.org/pandas-docs/stable/user_guide/indexing.html#returning-a-view-versus-a-copy\n",
            "  # Remove the CWD from sys.path while we load stuff.\n",
            "/usr/local/lib/python3.6/dist-packages/ipykernel_launcher.py:11: SettingWithCopyWarning: \n",
            "A value is trying to be set on a copy of a slice from a DataFrame.\n",
            "Try using .loc[row_indexer,col_indexer] = value instead\n",
            "\n",
            "See the caveats in the documentation: https://pandas.pydata.org/pandas-docs/stable/user_guide/indexing.html#returning-a-view-versus-a-copy\n",
            "  # This is added back by InteractiveShellApp.init_path()\n",
            "/usr/local/lib/python3.6/dist-packages/ipykernel_launcher.py:12: SettingWithCopyWarning: \n",
            "A value is trying to be set on a copy of a slice from a DataFrame.\n",
            "Try using .loc[row_indexer,col_indexer] = value instead\n",
            "\n",
            "See the caveats in the documentation: https://pandas.pydata.org/pandas-docs/stable/user_guide/indexing.html#returning-a-view-versus-a-copy\n",
            "  if sys.path[0] == '':\n",
            "/usr/local/lib/python3.6/dist-packages/ipykernel_launcher.py:13: SettingWithCopyWarning: \n",
            "A value is trying to be set on a copy of a slice from a DataFrame.\n",
            "Try using .loc[row_indexer,col_indexer] = value instead\n",
            "\n",
            "See the caveats in the documentation: https://pandas.pydata.org/pandas-docs/stable/user_guide/indexing.html#returning-a-view-versus-a-copy\n",
            "  del sys.path[0]\n"
          ],
          "name": "stderr"
        }
      ]
    },
    {
      "cell_type": "code",
      "metadata": {
        "id": "psPJlVzW9uI2",
        "colab": {
          "base_uri": "https://localhost:8080/"
        },
        "outputId": "d57f6d30-60e3-4eb4-bb35-732129ccc4e7"
      },
      "source": [
        "clean_hep_df_1.dtypes"
      ],
      "execution_count": 33,
      "outputs": [
        {
          "output_type": "execute_result",
          "data": {
            "text/plain": [
              "Class                int64\n",
              "AGE                  int64\n",
              "SEX                  int64\n",
              "STEROID              int64\n",
              "ANTIVIRALS           int64\n",
              "FATIGUE              int64\n",
              "MALAISE              int64\n",
              "ANOREXIA             int64\n",
              "LIVER_BIG            int64\n",
              "LIVER_FIRM           int64\n",
              "SPLEEN_PALPABLE      int64\n",
              "SPIDERS              int64\n",
              "ASCITES              int64\n",
              "VARICES              int64\n",
              "BILIRUBIN          float64\n",
              "ALK_PHOSPHATE        int64\n",
              "SGOT                 int64\n",
              "ALBUMIN            float64\n",
              "HISTOLOGY            int64\n",
              "dtype: object"
            ]
          },
          "metadata": {
            "tags": []
          },
          "execution_count": 33
        }
      ]
    },
    {
      "cell_type": "code",
      "metadata": {
        "id": "P_FUzu-JDYvx",
        "colab": {
          "base_uri": "https://localhost:8080/"
        },
        "outputId": "4ab12c7e-c5d7-4fcf-e4ea-97a2c9f66ca0"
      },
      "source": [
        "clean_hep_df_2.dtypes"
      ],
      "execution_count": 34,
      "outputs": [
        {
          "output_type": "execute_result",
          "data": {
            "text/plain": [
              "Class                int64\n",
              "AGE                  int64\n",
              "SEX                  int64\n",
              "STEROID              int64\n",
              "ANTIVIRALS           int64\n",
              "FATIGUE              int64\n",
              "MALAISE              int64\n",
              "ANOREXIA             int64\n",
              "LIVER_BIG            int64\n",
              "LIVER_FIRM           int64\n",
              "SPLEEN_PALPABLE      int64\n",
              "SPIDERS              int64\n",
              "ASCITES              int64\n",
              "VARICES              int64\n",
              "BILIRUBIN          float64\n",
              "SGOT                 int64\n",
              "ALBUMIN            float64\n",
              "HISTOLOGY            int64\n",
              "dtype: object"
            ]
          },
          "metadata": {
            "tags": []
          },
          "execution_count": 34
        }
      ]
    },
    {
      "cell_type": "code",
      "metadata": {
        "id": "E-qu5wz-VaQw",
        "colab": {
          "base_uri": "https://localhost:8080/"
        },
        "outputId": "0dc8e13d-747c-4768-ac7d-272039e08a67"
      },
      "source": [
        "clean_hep_df_1.shape"
      ],
      "execution_count": 35,
      "outputs": [
        {
          "output_type": "execute_result",
          "data": {
            "text/plain": [
              "(112, 19)"
            ]
          },
          "metadata": {
            "tags": []
          },
          "execution_count": 35
        }
      ]
    },
    {
      "cell_type": "code",
      "metadata": {
        "id": "ABH7wfoGf2pB",
        "colab": {
          "base_uri": "https://localhost:8080/"
        },
        "outputId": "48f9ecfb-7422-4e7b-91a9-681009c89800"
      },
      "source": [
        "clean_hep_df_2.shape"
      ],
      "execution_count": 36,
      "outputs": [
        {
          "output_type": "execute_result",
          "data": {
            "text/plain": [
              "(129, 18)"
            ]
          },
          "metadata": {
            "tags": []
          },
          "execution_count": 36
        }
      ]
    },
    {
      "cell_type": "markdown",
      "metadata": {
        "id": "LZSC4CoJWq68"
      },
      "source": [
        "If we removed the rows containing missing entries without removing any of the attributes, we would have removed 75 instances. By removing the 'PROTIME' and 'ALK_PHOSPHATE' attributes before removing the missing rows, we removed only 26 instances. Therefore, saving 49 instances or 31.6% of the data. By removing only 'PROTIME', we still save 32 entries or 20.6% of the data."
      ]
    },
    {
      "cell_type": "code",
      "metadata": {
        "id": "a1VPJIMVXj-U"
      },
      "source": [
        "# Class = 'LIVE'\n",
        "live1 = clean_hep_df_1[clean_hep_df_1['Class']==2]\n",
        "# Class = 'DIE'\n",
        "die1 = clean_hep_df_1[clean_hep_df_1['Class']==1]"
      ],
      "execution_count": 37,
      "outputs": []
    },
    {
      "cell_type": "code",
      "metadata": {
        "id": "4dz1lWYoYHSs",
        "colab": {
          "base_uri": "https://localhost:8080/"
        },
        "outputId": "a1aeecba-8771-46db-d512-c2e86a123dfe"
      },
      "source": [
        "die1.shape"
      ],
      "execution_count": 38,
      "outputs": [
        {
          "output_type": "execute_result",
          "data": {
            "text/plain": [
              "(19, 19)"
            ]
          },
          "metadata": {
            "tags": []
          },
          "execution_count": 38
        }
      ]
    },
    {
      "cell_type": "code",
      "metadata": {
        "id": "bOP0-Jk0YR37",
        "colab": {
          "base_uri": "https://localhost:8080/"
        },
        "outputId": "9b18ceab-eb61-479d-8cef-025f73e70c2a"
      },
      "source": [
        "live1.shape"
      ],
      "execution_count": 39,
      "outputs": [
        {
          "output_type": "execute_result",
          "data": {
            "text/plain": [
              "(93, 19)"
            ]
          },
          "metadata": {
            "tags": []
          },
          "execution_count": 39
        }
      ]
    },
    {
      "cell_type": "code",
      "metadata": {
        "id": "veI9vrCL6N8D"
      },
      "source": [
        "# Class = 'LIVE'\n",
        "live2 = clean_hep_df_2[clean_hep_df_2['Class']==2]\n",
        "# Class = 'DIE'\n",
        "die2 = clean_hep_df_2[clean_hep_df_2['Class']==1]"
      ],
      "execution_count": 40,
      "outputs": []
    },
    {
      "cell_type": "code",
      "metadata": {
        "id": "CLCk8uQo6StP",
        "colab": {
          "base_uri": "https://localhost:8080/"
        },
        "outputId": "c8e49d10-e921-4475-93eb-a4503611ad13"
      },
      "source": [
        "die2.shape"
      ],
      "execution_count": 41,
      "outputs": [
        {
          "output_type": "execute_result",
          "data": {
            "text/plain": [
              "(24, 18)"
            ]
          },
          "metadata": {
            "tags": []
          },
          "execution_count": 41
        }
      ]
    },
    {
      "cell_type": "code",
      "metadata": {
        "id": "6wrwg8F86UvI",
        "colab": {
          "base_uri": "https://localhost:8080/"
        },
        "outputId": "446e6e09-6c9f-476d-cabd-f3ac710e5ddf"
      },
      "source": [
        "live2.shape"
      ],
      "execution_count": 42,
      "outputs": [
        {
          "output_type": "execute_result",
          "data": {
            "text/plain": [
              "(105, 18)"
            ]
          },
          "metadata": {
            "tags": []
          },
          "execution_count": 42
        }
      ]
    },
    {
      "cell_type": "code",
      "metadata": {
        "id": "dGpnLQF2Y3sI",
        "colab": {
          "base_uri": "https://localhost:8080/",
          "height": 0
        },
        "outputId": "fe54b533-b630-434d-a868-c5dc633174d3"
      },
      "source": [
        "pd.value_counts(clean_hep_df_1['Class']).plot.bar(x='Class',rot=0)\n",
        "plt.show()"
      ],
      "execution_count": 43,
      "outputs": [
        {
          "output_type": "display_data",
          "data": {
            "image/png": "[encoded data removed]",
            "text/plain": [
              "<Figure size 432x288 with 1 Axes>"
            ]
          },
          "metadata": {
            "tags": [],
            "needs_background": "light"
          }
        }
      ]
    },
    {
      "cell_type": "code",
      "metadata": {
        "id": "5wgS_NCW6a2e",
        "colab": {
          "base_uri": "https://localhost:8080/",
          "height": 0
        },
        "outputId": "c705c577-8c64-4c83-aff5-6bdb96f50db1"
      },
      "source": [
        "pd.value_counts(clean_hep_df_2['Class']).plot.bar(x='Class',rot=0)\n",
        "plt.show()"
      ],
      "execution_count": 44,
      "outputs": [
        {
          "output_type": "display_data",
          "data": {
            "image/png": "[encoded data removed]",
            "text/plain": [
              "<Figure size 432x288 with 1 Axes>"
            ]
          },
          "metadata": {
            "tags": [],
            "needs_background": "light"
          }
        }
      ]
    },
    {
      "cell_type": "markdown",
      "metadata": {
        "id": "ahqqeUnnY98B"
      },
      "source": [
        "## Exploratory Data Analysis of the Hepatitis Dataset"
      ]
    },
    {
      "cell_type": "code",
      "metadata": {
        "colab": {
          "base_uri": "https://localhost:8080/",
          "height": 0
        },
        "id": "BQJpMRlZLcAI",
        "outputId": "4ebedc27-1dac-4966-a270-56f990b7ebdd"
      },
      "source": [
        "sb.heatmap(clean_hep_df_1.corr())\n",
        "plt.show()"
      ],
      "execution_count": 45,
      "outputs": [
        {
          "output_type": "display_data",
          "data": {
            "image/png": "[encoded data removed]",
            "text/plain": [
              "<Figure size 432x288 with 2 Axes>"
            ]
          },
          "metadata": {
            "tags": [],
            "needs_background": "light"
          }
        }
      ]
    },
    {
      "cell_type": "code",
      "metadata": {
        "colab": {
          "base_uri": "https://localhost:8080/",
          "height": 0
        },
        "id": "lPv3GtqVpQBT",
        "outputId": "78e8bab5-efb2-4486-ae8e-b24d939f067f"
      },
      "source": [
        "sb.heatmap(clean_hep_df_2.corr())\n",
        "plt.show()"
      ],
      "execution_count": 46,
      "outputs": [
        {
          "output_type": "display_data",
          "data": {
            "image/png": "[encoded data removed]",
            "text/plain": [
              "<Figure size 432x288 with 2 Axes>"
            ]
          },
          "metadata": {
            "tags": [],
            "needs_background": "light"
          }
        }
      ]
    },
    {
      "cell_type": "markdown",
      "metadata": {
        "id": "7dRzOox-MPgr"
      },
      "source": [
        "ASCITES most highly correlated, other features not very correlated\n",
        "Notice: ALK_PHOSOHATE not correlated with CLASS"
      ]
    },
    {
      "cell_type": "code",
      "metadata": {
        "colab": {
          "base_uri": "https://localhost:8080/",
          "height": 0
        },
        "id": "OegcRAd6Nybb",
        "outputId": "b960dc0b-afc2-43e9-97d7-68c65faae4da"
      },
      "source": [
        "sb.displot(x='ASCITES',hue='Class',kind='kde',data=clean_hep_df_1)\n",
        "plt.show()"
      ],
      "execution_count": 47,
      "outputs": [
        {
          "output_type": "display_data",
          "data": {
            "image/png": "[encoded data removed]",
            "text/plain": [
              "<Figure size 402.375x360 with 1 Axes>"
            ]
          },
          "metadata": {
            "tags": [],
            "needs_background": "light"
          }
        }
      ]
    },
    {
      "cell_type": "code",
      "metadata": {
        "colab": {
          "base_uri": "https://localhost:8080/",
          "height": 0
        },
        "id": "yl9YuXUfPRLT",
        "outputId": "d09e4280-a08e-49c3-dd7a-cd0792790f7b"
      },
      "source": [
        "# Continuous Variables\n",
        "df = clean_hep_df_1.loc[:, clean_hep_df_1.columns.difference(['SEX','STEROID','ANOREXIA','HISTOLOGY','VARICES','ASCITES','MALAISE','ANTIVIRALS','FATIGUE','LIVER_BIG','LIVER_FIRM','SPIDERS','SPLEEN_PALPABLE'])].groupby('Class').aggregate(['median','mean','std'])\n",
        "display(df)"
      ],
      "execution_count": 48,
      "outputs": [
        {
          "output_type": "display_data",
          "data": {
            "text/html": [
              "<div>\n",
              "<style scoped>\n",
              "    .dataframe tbody tr th:only-of-type {\n",
              "        vertical-align: middle;\n",
              "    }\n",
              "\n",
              "    .dataframe tbody tr th {\n",
              "        vertical-align: top;\n",
              "    }\n",
              "\n",
              "    .dataframe thead tr th {\n",
              "        text-align: left;\n",
              "    }\n",
              "\n",
              "    .dataframe thead tr:last-of-type th {\n",
              "        text-align: right;\n",
              "    }\n",
              "</style>\n",
              "<table border=\"1\" class=\"dataframe\">\n",
              "  <thead>\n",
              "    <tr>\n",
              "      <th></th>\n",
              "      <th colspan=\"3\" halign=\"left\">AGE</th>\n",
              "      <th colspan=\"3\" halign=\"left\">ALBUMIN</th>\n",
              "      <th colspan=\"3\" halign=\"left\">ALK_PHOSPHATE</th>\n",
              "      <th colspan=\"3\" halign=\"left\">BILIRUBIN</th>\n",
              "      <th colspan=\"3\" halign=\"left\">SGOT</th>\n",
              "    </tr>\n",
              "    <tr>\n",
              "      <th></th>\n",
              "      <th>median</th>\n",
              "      <th>mean</th>\n",
              "      <th>std</th>\n",
              "      <th>median</th>\n",
              "      <th>mean</th>\n",
              "      <th>std</th>\n",
              "      <th>median</th>\n",
              "      <th>mean</th>\n",
              "      <th>std</th>\n",
              "      <th>median</th>\n",
              "      <th>mean</th>\n",
              "      <th>std</th>\n",
              "      <th>median</th>\n",
              "      <th>mean</th>\n",
              "      <th>std</th>\n",
              "    </tr>\n",
              "    <tr>\n",
              "      <th>Class</th>\n",
              "      <th></th>\n",
              "      <th></th>\n",
              "      <th></th>\n",
              "      <th></th>\n",
              "      <th></th>\n",
              "      <th></th>\n",
              "      <th></th>\n",
              "      <th></th>\n",
              "      <th></th>\n",
              "      <th></th>\n",
              "      <th></th>\n",
              "      <th></th>\n",
              "      <th></th>\n",
              "      <th></th>\n",
              "      <th></th>\n",
              "    </tr>\n",
              "  </thead>\n",
              "  <tbody>\n",
              "    <tr>\n",
              "      <th>1</th>\n",
              "      <td>47</td>\n",
              "      <td>45.210526</td>\n",
              "      <td>8.456286</td>\n",
              "      <td>3.3</td>\n",
              "      <td>3.284211</td>\n",
              "      <td>0.611249</td>\n",
              "      <td>100</td>\n",
              "      <td>121.473684</td>\n",
              "      <td>61.152240</td>\n",
              "      <td>1.7</td>\n",
              "      <td>2.015789</td>\n",
              "      <td>1.347122</td>\n",
              "      <td>68</td>\n",
              "      <td>80.210526</td>\n",
              "      <td>61.162424</td>\n",
              "    </tr>\n",
              "    <tr>\n",
              "      <th>2</th>\n",
              "      <td>38</td>\n",
              "      <td>40.376344</td>\n",
              "      <td>12.654192</td>\n",
              "      <td>4.0</td>\n",
              "      <td>3.947312</td>\n",
              "      <td>0.502297</td>\n",
              "      <td>85</td>\n",
              "      <td>102.225806</td>\n",
              "      <td>51.301566</td>\n",
              "      <td>1.0</td>\n",
              "      <td>1.120430</td>\n",
              "      <td>0.674627</td>\n",
              "      <td>55</td>\n",
              "      <td>78.290323</td>\n",
              "      <td>70.512346</td>\n",
              "    </tr>\n",
              "  </tbody>\n",
              "</table>\n",
              "</div>"
            ],
            "text/plain": [
              "         AGE                        ...   SGOT                      \n",
              "      median       mean        std  ... median       mean        std\n",
              "Class                               ...                             \n",
              "1         47  45.210526   8.456286  ...     68  80.210526  61.162424\n",
              "2         38  40.376344  12.654192  ...     55  78.290323  70.512346\n",
              "\n",
              "[2 rows x 15 columns]"
            ]
          },
          "metadata": {
            "tags": []
          }
        }
      ]
    },
    {
      "cell_type": "code",
      "metadata": {
        "colab": {
          "base_uri": "https://localhost:8080/",
          "height": 0
        },
        "id": "B-l2Va1fRmJR",
        "outputId": "ceeacdc9-2fcc-45ca-f44f-350b2e0de182"
      },
      "source": [
        "# Categorical Variables\n",
        "cat_hep_df = clean_hep_df_1[[\"Class\",\"ANOREXIA\", \"ANTIVIRALS\",\"ASCITES\",\"FATIGUE\",\"HISTOLOGY\",\"LIVER_BIG\",\"LIVER_FIRM\",\"MALAISE\",\"SEX\",\"SPIDERS\",\"SPLEEN_PALPABLE\",\"STEROID\",\"VARICES\"]]\n",
        "cat_hep_freq_table = cat_hep_df.apply(lambda x: x.value_counts()/cat_hep_df.shape[0])\n",
        "cat_hep_freq_table"
      ],
      "execution_count": 49,
      "outputs": [
        {
          "output_type": "execute_result",
          "data": {
            "text/html": [
              "<div>\n",
              "<style scoped>\n",
              "    .dataframe tbody tr th:only-of-type {\n",
              "        vertical-align: middle;\n",
              "    }\n",
              "\n",
              "    .dataframe tbody tr th {\n",
              "        vertical-align: top;\n",
              "    }\n",
              "\n",
              "    .dataframe thead th {\n",
              "        text-align: right;\n",
              "    }\n",
              "</style>\n",
              "<table border=\"1\" class=\"dataframe\">\n",
              "  <thead>\n",
              "    <tr style=\"text-align: right;\">\n",
              "      <th></th>\n",
              "      <th>Class</th>\n",
              "      <th>ANOREXIA</th>\n",
              "      <th>ANTIVIRALS</th>\n",
              "      <th>ASCITES</th>\n",
              "      <th>FATIGUE</th>\n",
              "      <th>HISTOLOGY</th>\n",
              "      <th>LIVER_BIG</th>\n",
              "      <th>LIVER_FIRM</th>\n",
              "      <th>MALAISE</th>\n",
              "      <th>SEX</th>\n",
              "      <th>SPIDERS</th>\n",
              "      <th>SPLEEN_PALPABLE</th>\n",
              "      <th>STEROID</th>\n",
              "      <th>VARICES</th>\n",
              "    </tr>\n",
              "  </thead>\n",
              "  <tbody>\n",
              "    <tr>\n",
              "      <th>1</th>\n",
              "      <td>0.169643</td>\n",
              "      <td>0.169643</td>\n",
              "      <td>0.196429</td>\n",
              "      <td>0.125</td>\n",
              "      <td>0.651786</td>\n",
              "      <td>0.580357</td>\n",
              "      <td>0.196429</td>\n",
              "      <td>0.482143</td>\n",
              "      <td>0.375</td>\n",
              "      <td>0.883929</td>\n",
              "      <td>0.339286</td>\n",
              "      <td>0.178571</td>\n",
              "      <td>0.482143</td>\n",
              "      <td>0.125</td>\n",
              "    </tr>\n",
              "    <tr>\n",
              "      <th>2</th>\n",
              "      <td>0.830357</td>\n",
              "      <td>0.830357</td>\n",
              "      <td>0.803571</td>\n",
              "      <td>0.875</td>\n",
              "      <td>0.348214</td>\n",
              "      <td>0.419643</td>\n",
              "      <td>0.803571</td>\n",
              "      <td>0.517857</td>\n",
              "      <td>0.625</td>\n",
              "      <td>0.116071</td>\n",
              "      <td>0.660714</td>\n",
              "      <td>0.821429</td>\n",
              "      <td>0.517857</td>\n",
              "      <td>0.875</td>\n",
              "    </tr>\n",
              "  </tbody>\n",
              "</table>\n",
              "</div>"
            ],
            "text/plain": [
              "      Class  ANOREXIA  ANTIVIRALS  ...  SPLEEN_PALPABLE   STEROID  VARICES\n",
              "1  0.169643  0.169643    0.196429  ...         0.178571  0.482143    0.125\n",
              "2  0.830357  0.830357    0.803571  ...         0.821429  0.517857    0.875\n",
              "\n",
              "[2 rows x 14 columns]"
            ]
          },
          "metadata": {
            "tags": []
          },
          "execution_count": 49
        }
      ]
    },
    {
      "cell_type": "code",
      "metadata": {
        "id": "Wc-dB0maFxkY",
        "colab": {
          "base_uri": "https://localhost:8080/",
          "height": 0
        },
        "outputId": "ce38bcdf-f3b2-4240-ecac-87cd2d936af9"
      },
      "source": [
        "cat_hep_df.groupby('Class').aggregate(['median'])"
      ],
      "execution_count": 50,
      "outputs": [
        {
          "output_type": "execute_result",
          "data": {
            "text/html": [
              "<div>\n",
              "<style scoped>\n",
              "    .dataframe tbody tr th:only-of-type {\n",
              "        vertical-align: middle;\n",
              "    }\n",
              "\n",
              "    .dataframe tbody tr th {\n",
              "        vertical-align: top;\n",
              "    }\n",
              "\n",
              "    .dataframe thead tr th {\n",
              "        text-align: left;\n",
              "    }\n",
              "\n",
              "    .dataframe thead tr:last-of-type th {\n",
              "        text-align: right;\n",
              "    }\n",
              "</style>\n",
              "<table border=\"1\" class=\"dataframe\">\n",
              "  <thead>\n",
              "    <tr>\n",
              "      <th></th>\n",
              "      <th>ANOREXIA</th>\n",
              "      <th>ANTIVIRALS</th>\n",
              "      <th>ASCITES</th>\n",
              "      <th>FATIGUE</th>\n",
              "      <th>HISTOLOGY</th>\n",
              "      <th>LIVER_BIG</th>\n",
              "      <th>LIVER_FIRM</th>\n",
              "      <th>MALAISE</th>\n",
              "      <th>SEX</th>\n",
              "      <th>SPIDERS</th>\n",
              "      <th>SPLEEN_PALPABLE</th>\n",
              "      <th>STEROID</th>\n",
              "      <th>VARICES</th>\n",
              "    </tr>\n",
              "    <tr>\n",
              "      <th></th>\n",
              "      <th>median</th>\n",
              "      <th>median</th>\n",
              "      <th>median</th>\n",
              "      <th>median</th>\n",
              "      <th>median</th>\n",
              "      <th>median</th>\n",
              "      <th>median</th>\n",
              "      <th>median</th>\n",
              "      <th>median</th>\n",
              "      <th>median</th>\n",
              "      <th>median</th>\n",
              "      <th>median</th>\n",
              "      <th>median</th>\n",
              "    </tr>\n",
              "    <tr>\n",
              "      <th>Class</th>\n",
              "      <th></th>\n",
              "      <th></th>\n",
              "      <th></th>\n",
              "      <th></th>\n",
              "      <th></th>\n",
              "      <th></th>\n",
              "      <th></th>\n",
              "      <th></th>\n",
              "      <th></th>\n",
              "      <th></th>\n",
              "      <th></th>\n",
              "      <th></th>\n",
              "      <th></th>\n",
              "    </tr>\n",
              "  </thead>\n",
              "  <tbody>\n",
              "    <tr>\n",
              "      <th>1</th>\n",
              "      <td>2</td>\n",
              "      <td>2</td>\n",
              "      <td>2</td>\n",
              "      <td>1</td>\n",
              "      <td>2</td>\n",
              "      <td>2</td>\n",
              "      <td>1</td>\n",
              "      <td>1</td>\n",
              "      <td>1</td>\n",
              "      <td>1</td>\n",
              "      <td>2</td>\n",
              "      <td>1</td>\n",
              "      <td>2</td>\n",
              "    </tr>\n",
              "    <tr>\n",
              "      <th>2</th>\n",
              "      <td>2</td>\n",
              "      <td>2</td>\n",
              "      <td>2</td>\n",
              "      <td>1</td>\n",
              "      <td>1</td>\n",
              "      <td>2</td>\n",
              "      <td>2</td>\n",
              "      <td>2</td>\n",
              "      <td>1</td>\n",
              "      <td>2</td>\n",
              "      <td>2</td>\n",
              "      <td>2</td>\n",
              "      <td>2</td>\n",
              "    </tr>\n",
              "  </tbody>\n",
              "</table>\n",
              "</div>"
            ],
            "text/plain": [
              "      ANOREXIA ANTIVIRALS ASCITES  ... SPLEEN_PALPABLE STEROID VARICES\n",
              "        median     median  median  ...          median  median  median\n",
              "Class                              ...                                \n",
              "1            2          2       2  ...               2       1       2\n",
              "2            2          2       2  ...               2       2       2\n",
              "\n",
              "[2 rows x 13 columns]"
            ]
          },
          "metadata": {
            "tags": []
          },
          "execution_count": 50
        }
      ]
    },
    {
      "cell_type": "markdown",
      "metadata": {
        "id": "d9gxOr2rjqsx"
      },
      "source": [
        "## Partitioning Datasets"
      ]
    },
    {
      "cell_type": "code",
      "metadata": {
        "id": "pTXSS1bkisWW"
      },
      "source": [
        "from sklearn.model_selection import train_test_split"
      ],
      "execution_count": 51,
      "outputs": []
    },
    {
      "cell_type": "markdown",
      "metadata": {
        "id": "byGxNb7jYSq4"
      },
      "source": [
        "Breast Cancer Dataset"
      ]
    },
    {
      "cell_type": "code",
      "metadata": {
        "id": "0OU-4JHr7R4t"
      },
      "source": [
        "X = clean_bc_df.drop(['Class'], axis=1)\n",
        "Y = clean_bc_df['Class']"
      ],
      "execution_count": 52,
      "outputs": []
    },
    {
      "cell_type": "code",
      "metadata": {
        "id": "9iVfMvnii9N7"
      },
      "source": [
        "X_bc_train_val, X_bc_test, Y_bc_train_val, Y_bc_test = train_test_split(X, Y, test_size=0.20, random_state=1234)"
      ],
      "execution_count": 53,
      "outputs": []
    },
    {
      "cell_type": "code",
      "metadata": {
        "id": "ecnNlVsNXAJa"
      },
      "source": [
        "X_bc_train, X_bc_val = train_test_split(X_bc_train_val,test_size=0.20, random_state=1234)\n",
        "Y_bc_train, Y_bc_val = train_test_split(Y_bc_train_val,test_size=0.20, random_state=1234)"
      ],
      "execution_count": 54,
      "outputs": []
    },
    {
      "cell_type": "code",
      "metadata": {
        "id": "FpKh2EPYYmYI"
      },
      "source": [
        "X_bc_train_val_mat = X_bc_train_val.to_numpy()\n",
        "Y_bc_train_val_mat = Y_bc_train_val.to_numpy()\n",
        "\n",
        "X_bc_train_mat = X_bc_train.to_numpy()\n",
        "X_bc_val_mat = X_bc_val.to_numpy()\n",
        "X_bc_test_mat = X_bc_test.to_numpy()\n",
        "\n",
        "Y_bc_train_mat = Y_bc_train.to_numpy()\n",
        "Y_bc_val_mat = Y_bc_val.to_numpy()\n",
        "Y_bc_test_mat = Y_bc_test.to_numpy()"
      ],
      "execution_count": 55,
      "outputs": []
    },
    {
      "cell_type": "code",
      "metadata": {
        "id": "pq6DiNQcG31I",
        "colab": {
          "base_uri": "https://localhost:8080/",
          "height": 0
        },
        "outputId": "88f960a7-a00e-4aca-ed0f-e64d6e467335"
      },
      "source": [
        "X_bc_train.head()"
      ],
      "execution_count": 56,
      "outputs": [
        {
          "output_type": "execute_result",
          "data": {
            "text/html": [
              "<div>\n",
              "<style scoped>\n",
              "    .dataframe tbody tr th:only-of-type {\n",
              "        vertical-align: middle;\n",
              "    }\n",
              "\n",
              "    .dataframe tbody tr th {\n",
              "        vertical-align: top;\n",
              "    }\n",
              "\n",
              "    .dataframe thead th {\n",
              "        text-align: right;\n",
              "    }\n",
              "</style>\n",
              "<table border=\"1\" class=\"dataframe\">\n",
              "  <thead>\n",
              "    <tr style=\"text-align: right;\">\n",
              "      <th></th>\n",
              "      <th>Clump_Thickness</th>\n",
              "      <th>Uniformity_of_Cell_Size</th>\n",
              "      <th>Uniformity_of_Cell_Shape</th>\n",
              "      <th>Marginal_Adhesion</th>\n",
              "      <th>Single_Epithelial_Cell_Size</th>\n",
              "      <th>Bare_Nuclei</th>\n",
              "      <th>Bland_Chromatin</th>\n",
              "      <th>Normal_Nucleoli</th>\n",
              "      <th>Mitoses</th>\n",
              "    </tr>\n",
              "  </thead>\n",
              "  <tbody>\n",
              "    <tr>\n",
              "      <th>376</th>\n",
              "      <td>1</td>\n",
              "      <td>1</td>\n",
              "      <td>1</td>\n",
              "      <td>1</td>\n",
              "      <td>2</td>\n",
              "      <td>1</td>\n",
              "      <td>2</td>\n",
              "      <td>1</td>\n",
              "      <td>1</td>\n",
              "    </tr>\n",
              "    <tr>\n",
              "      <th>394</th>\n",
              "      <td>1</td>\n",
              "      <td>2</td>\n",
              "      <td>3</td>\n",
              "      <td>1</td>\n",
              "      <td>2</td>\n",
              "      <td>1</td>\n",
              "      <td>2</td>\n",
              "      <td>1</td>\n",
              "      <td>1</td>\n",
              "    </tr>\n",
              "    <tr>\n",
              "      <th>644</th>\n",
              "      <td>2</td>\n",
              "      <td>1</td>\n",
              "      <td>1</td>\n",
              "      <td>1</td>\n",
              "      <td>2</td>\n",
              "      <td>1</td>\n",
              "      <td>1</td>\n",
              "      <td>1</td>\n",
              "      <td>1</td>\n",
              "    </tr>\n",
              "    <tr>\n",
              "      <th>530</th>\n",
              "      <td>7</td>\n",
              "      <td>4</td>\n",
              "      <td>4</td>\n",
              "      <td>3</td>\n",
              "      <td>4</td>\n",
              "      <td>10</td>\n",
              "      <td>6</td>\n",
              "      <td>9</td>\n",
              "      <td>1</td>\n",
              "    </tr>\n",
              "    <tr>\n",
              "      <th>502</th>\n",
              "      <td>4</td>\n",
              "      <td>1</td>\n",
              "      <td>1</td>\n",
              "      <td>2</td>\n",
              "      <td>2</td>\n",
              "      <td>1</td>\n",
              "      <td>2</td>\n",
              "      <td>1</td>\n",
              "      <td>1</td>\n",
              "    </tr>\n",
              "  </tbody>\n",
              "</table>\n",
              "</div>"
            ],
            "text/plain": [
              "     Clump_Thickness  Uniformity_of_Cell_Size  ...  Normal_Nucleoli  Mitoses\n",
              "376                1                        1  ...                1        1\n",
              "394                1                        2  ...                1        1\n",
              "644                2                        1  ...                1        1\n",
              "530                7                        4  ...                9        1\n",
              "502                4                        1  ...                1        1\n",
              "\n",
              "[5 rows x 9 columns]"
            ]
          },
          "metadata": {
            "tags": []
          },
          "execution_count": 56
        }
      ]
    },
    {
      "cell_type": "code",
      "metadata": {
        "id": "o-46CPdiHFFX",
        "colab": {
          "base_uri": "https://localhost:8080/"
        },
        "outputId": "4784238d-4334-421f-ec31-8215e1129b41"
      },
      "source": [
        "Y_bc_train.head()"
      ],
      "execution_count": 57,
      "outputs": [
        {
          "output_type": "execute_result",
          "data": {
            "text/plain": [
              "376    2\n",
              "394    2\n",
              "644    2\n",
              "530    4\n",
              "502    2\n",
              "Name: Class, dtype: int64"
            ]
          },
          "metadata": {
            "tags": []
          },
          "execution_count": 57
        }
      ]
    },
    {
      "cell_type": "markdown",
      "metadata": {
        "id": "pZWHrKCKYWX4"
      },
      "source": [
        "Hepatitis Dataset"
      ]
    },
    {
      "cell_type": "markdown",
      "metadata": {
        "id": "cOj9Ou1UY7s7"
      },
      "source": [
        "First"
      ]
    },
    {
      "cell_type": "code",
      "metadata": {
        "id": "PfdZ9B5FHVN1"
      },
      "source": [
        "X1 = clean_hep_df_1.drop(['Class'], axis=1)\n",
        "Y1 = clean_hep_df_1['Class']"
      ],
      "execution_count": 58,
      "outputs": []
    },
    {
      "cell_type": "code",
      "metadata": {
        "id": "VTYqNYbgjYGX"
      },
      "source": [
        "X_train_val_1, X_test_1, Y_train_val_1, Y_test_1 = train_test_split(X1, Y1, test_size=0.20, random_state=1234)"
      ],
      "execution_count": 59,
      "outputs": []
    },
    {
      "cell_type": "code",
      "metadata": {
        "id": "DQviJjEsX4X6"
      },
      "source": [
        "X_train_1, X_val_1 = train_test_split(X_train_val_1,test_size=0.20, random_state=1234)\n",
        "Y_train_1, Y_val_1 = train_test_split(Y_train_val_1,test_size=0.20, random_state=1234)"
      ],
      "execution_count": 60,
      "outputs": []
    },
    {
      "cell_type": "code",
      "metadata": {
        "id": "rJecWm2UZAye"
      },
      "source": [
        "X_train_val_mat_1 = X_train_val_1.to_numpy()\n",
        "Y_train_val_mat_1 = Y_train_val_1.to_numpy()\n",
        "\n",
        "X_train_mat_1 = X_train_1.to_numpy()\n",
        "X_val_mat_1 = X_val_1.to_numpy()\n",
        "X_test_mat_1 = X_test_1.to_numpy()\n",
        "\n",
        "Y_train_mat_1 = Y_train_1.to_numpy()\n",
        "Y_val_mat_1 = Y_val_1.to_numpy()\n",
        "Y_test_mat_1 = Y_test_1.to_numpy()"
      ],
      "execution_count": 61,
      "outputs": []
    },
    {
      "cell_type": "markdown",
      "metadata": {
        "id": "JI7KbEF5Y-7p"
      },
      "source": [
        "Second"
      ]
    },
    {
      "cell_type": "code",
      "metadata": {
        "id": "MlBfxEKivcyJ"
      },
      "source": [
        "X2 = clean_hep_df_2.drop(['Class'], axis=1)\n",
        "Y2 = clean_hep_df_2['Class']"
      ],
      "execution_count": 62,
      "outputs": []
    },
    {
      "cell_type": "code",
      "metadata": {
        "id": "HF_IiikHjgnw"
      },
      "source": [
        "X_train_val_2, X_test_2, Y_train_val_2, Y_test_2 = train_test_split(X2, Y2, test_size=0.20, random_state=1234)"
      ],
      "execution_count": 63,
      "outputs": []
    },
    {
      "cell_type": "code",
      "metadata": {
        "id": "P7_depqgYE-d"
      },
      "source": [
        "X_train_2, X_val_2 = train_test_split(X_train_val_2,test_size=0.20, random_state=1234)\n",
        "Y_train_2, Y_val_2 = train_test_split(Y_train_val_2,test_size=0.20, random_state=1234)"
      ],
      "execution_count": 64,
      "outputs": []
    },
    {
      "cell_type": "code",
      "metadata": {
        "id": "tOxSxvIqZK84"
      },
      "source": [
        "X_train_val_mat_2 = X_train_val_2.to_numpy()\n",
        "Y_train_val_mat_2 = Y_train_val_2.to_numpy()\n",
        "\n",
        "X_train_mat_2 = X_train_2.to_numpy()\n",
        "X_val_mat_2 = X_val_2.to_numpy()\n",
        "X_test_mat_2 = X_test_2.to_numpy()\n",
        "\n",
        "Y_train_mat_2 = Y_train_2.to_numpy()\n",
        "Y_val_mat_2 = Y_val_2.to_numpy()\n",
        "Y_test_mat_2 = Y_test_2.to_numpy()"
      ],
      "execution_count": 65,
      "outputs": []
    },
    {
      "cell_type": "markdown",
      "metadata": {
        "id": "F53E8kLa2Tan"
      },
      "source": [
        "## Comparing accuracies to sklearn"
      ]
    },
    {
      "cell_type": "markdown",
      "metadata": {
        "id": "SYmVnzSIYRHi"
      },
      "source": [
        "KNN"
      ]
    },
    {
      "cell_type": "code",
      "metadata": {
        "colab": {
          "base_uri": "https://localhost:8080/"
        },
        "id": "xcESVmIz2S4t",
        "outputId": "698c2ac8-f21e-467b-8127-a65fc3b3bb7d"
      },
      "source": [
        "from sklearn.neighbors import KNeighborsClassifier\n",
        "from sklearn.metrics import accuracy_score\n",
        "\n",
        "knn = KNeighborsClassifier(n_neighbors=10)\n",
        "\n",
        "# Breast Cancer Dataset\n",
        "knn.fit(X_bc_train, Y_bc_train)\n",
        "y_pred = knn.predict(X_bc_test)\n",
        "\n",
        "print('KNN Breast cancer Model accuracy score: {0:0.4f}'. format(accuracy_score(Y_bc_test, y_pred)))\n",
        "\n",
        "y_pred_train = knn.predict(X_bc_train)\n",
        "print('KNN Breast cancer Training-set accuracy score: {0:0.4f}'. format(accuracy_score(Y_bc_train, y_pred_train)))\n",
        "\n",
        "# Hepatitis Dataset 1\n",
        "\n",
        "knn.fit(X_train_1, Y_train_1)\n",
        "y_pred = knn.predict(X_test_1)\n",
        "\n",
        "print('KNN Hep 1 Model accuracy score: {0:0.4f}'. format(accuracy_score(Y_test_1, y_pred)))\n",
        "\n",
        "y_pred_train = knn.predict(X_train_1)\n",
        "print('KNN Hep 1 Training-set accuracy score: {0:0.4f}'. format(accuracy_score(Y_train_1, y_pred_train)))\n",
        "\n",
        "# Hepatitis Dataset 2\n",
        "\n",
        "knn.fit(X_train_2, Y_train_2)\n",
        "y_pred = knn.predict(X_test_2)\n",
        "\n",
        "print('KNN Hep 2 Model accuracy score: {0:0.4f}'. format(accuracy_score(Y_test_2, y_pred)))\n",
        "\n",
        "y_pred_train = knn.predict(X_train_2)\n",
        "print('KNN Hep 2 Training-set accuracy score: {0:0.4f}'. format(accuracy_score(Y_train_2, y_pred_train)))"
      ],
      "execution_count": 66,
      "outputs": [
        {
          "output_type": "stream",
          "text": [
            "KNN Breast cancer Model accuracy score: 0.9781\n",
            "KNN Breast cancer Training-set accuracy score: 0.9748\n",
            "KNN Hep 1 Model accuracy score: 0.7826\n",
            "KNN Hep 1 Training-set accuracy score: 0.8451\n",
            "KNN Hep 2 Model accuracy score: 0.7692\n",
            "KNN Hep 2 Training-set accuracy score: 0.8415\n"
          ],
          "name": "stdout"
        }
      ]
    },
    {
      "cell_type": "markdown",
      "metadata": {
        "id": "v-Bnfnm_YSda"
      },
      "source": [
        "Decision Trees"
      ]
    },
    {
      "cell_type": "code",
      "metadata": {
        "colab": {
          "base_uri": "https://localhost:8080/"
        },
        "id": "PQLMiWCyYY6v",
        "outputId": "fa928af9-59e3-46a9-c1b7-266aa85371f6"
      },
      "source": [
        "from sklearn import tree\n",
        "\n",
        "# Breast Cancer\n",
        "\n",
        "decision_tree_bc = tree.DecisionTreeClassifier(criterion='entropy',splitter='best',max_depth=3)\n",
        "decision_tree_bc = decision_tree_bc.fit(X_bc_train, Y_bc_train)\n",
        "\n",
        "predict_test_bc = decision_tree_bc.predict(X_bc_test)\n",
        "predict_train_bc = decision_tree_bc.predict(X_bc_train)\n",
        "\n",
        "print('Decision Tree - Test Acc BC: {0:0.4f}'. format(accuracy_score(Y_bc_test, predict_test_bc)))\n",
        "print('Decision Tree - Train Acc BC: {0:0.4f}'. format(accuracy_score(Y_bc_train, predict_train_bc)))\n",
        "\n",
        "# Hepatitis 1\n",
        "\n",
        "decision_tree_1 = tree.DecisionTreeClassifier(criterion='entropy',splitter='best',max_depth=3)\n",
        "decision_tree_1 = decision_tree_1.fit(X_train_1, Y_train_1)\n",
        "\n",
        "predict_test_1 = decision_tree_1.predict(X_test_1)\n",
        "predict_train_1 = decision_tree_1.predict(X_train_1)\n",
        "\n",
        "print('Decision Tree - Test Acc Hep1: {0:0.4f}'. format(accuracy_score(Y_test_1, predict_test_1)))\n",
        "print('Decision Tree - Train Acc Hep1: {0:0.4f}'. format(accuracy_score(Y_train_1, predict_train_1)))\n",
        "\n",
        "# Hepatitis 2\n",
        "\n",
        "decision_tree_3 = tree.DecisionTreeClassifier(criterion='entropy',splitter='random',max_depth=3)\n",
        "decision_tree_3 = decision_tree_3.fit(X_train_2, Y_train_2)\n",
        "\n",
        "predict_test_3 = decision_tree_3.predict(X_test_2)\n",
        "predict_train_3 = decision_tree_3.predict(X_train_2)\n",
        "\n",
        "print('Entropy Decision Tree - Test Acc Hep2: {0:0.4f}'. format(accuracy_score(Y_test_2, predict_test_3)))\n",
        "print('Entropy Decision Tree - Train Acc Hep2: {0:0.4f}'. format(accuracy_score(Y_train_2, predict_train_3)))\n"
      ],
      "execution_count": 67,
      "outputs": [
        {
          "output_type": "stream",
          "text": [
            "Decision Tree - Test Acc BC: 0.9416\n",
            "Decision Tree - Train Acc BC: 0.9702\n",
            "Decision Tree - Test Acc Hep1: 0.6957\n",
            "Decision Tree - Train Acc Hep1: 0.9577\n",
            "Entropy Decision Tree - Test Acc Hep2: 0.8077\n",
            "Entropy Decision Tree - Train Acc Hep2: 0.9146\n"
          ],
          "name": "stdout"
        }
      ]
    },
    {
      "cell_type": "markdown",
      "metadata": {
        "id": "mlmS9VeBP9Xf"
      },
      "source": [
        "## Evaluation"
      ]
    },
    {
      "cell_type": "code",
      "metadata": {
        "id": "Ia50QF5FZ858"
      },
      "source": [
        "import os\r\n",
        "import numpy as np\r\n",
        "import copy"
      ],
      "execution_count": 68,
      "outputs": []
    },
    {
      "cell_type": "markdown",
      "metadata": {
        "id": "lYt79afxZ-a5"
      },
      "source": [
        "Defining the different distance functions"
      ]
    },
    {
      "cell_type": "code",
      "metadata": {
        "id": "HaI6p5tqaEC1"
      },
      "source": [
        "def euclidean_dist(x1, x2):\r\n",
        "    return np.sqrt(np.sum((x1 - x2)**2, axis=-1))\r\n",
        "\r\n",
        "def manhattan_dist(x1, x2):\r\n",
        "    return np.sum(np.abs(x1 - x2), axis=-1)\r\n",
        "\r\n",
        "def minkowski_dist(x1, x2, power=3):\r\n",
        "    return np.power((np.sum(np.abs(x1 - x2)**power, axis=-1)), 1/power)"
      ],
      "execution_count": 69,
      "outputs": []
    },
    {
      "cell_type": "markdown",
      "metadata": {
        "id": "T3ltaLDUaKNx"
      },
      "source": [
        "Implementing the KNN class"
      ]
    },
    {
      "cell_type": "code",
      "metadata": {
        "id": "Jl5yVBbCaSa-"
      },
      "source": [
        "class KNN:\r\n",
        "    \r\n",
        "    def __init__(self, k=1, distance_fct=euclidean_dist):\r\n",
        "        self.k = k\r\n",
        "        self.dist_fct = distance_fct\r\n",
        "        self.x = None\r\n",
        "        self.y = None\r\n",
        "    \r\n",
        "    # MAKE SURE TO PASS IN MATRICES/VECTORS, NOT DATAFRAMES\r\n",
        "    def fit(self, x_matrix, y_vector):\r\n",
        "        self.x = x_matrix\r\n",
        "        self.y = y_vector\r\n",
        "    \r\n",
        "    \r\n",
        "    def predict(self, x_test):\r\n",
        "        \r\n",
        "        num_test = x_test.shape[0]\r\n",
        "\r\n",
        "        distances = self.dist_fct(self.x[None,:,:], x_test[:,None,:])\r\n",
        "\r\n",
        "        knns = np.zeros((num_test, self.k), dtype=int)\r\n",
        "\r\n",
        "        predictions = np.zeros((num_test, 2))\r\n",
        "        for i in range(num_test):\r\n",
        "            knns[i,:] = np.argsort(distances[i])[:self.k]\r\n",
        "\r\n",
        "            predictions[i, 0] = np.bincount(self.y[np.argsort(distances[i])[:self.k]]).argmax()\r\n",
        "            predictions[i, 1] = np.bincount(self.y[np.argsort(distances[i])[:self.k]]).max() / self.k\r\n",
        "        \r\n",
        "        return predictions\r\n",
        "      \r\n",
        "    \r\n",
        "    def get_x(self):\r\n",
        "        return self.x\r\n",
        "    \r\n",
        "    def get_y(self):\r\n",
        "        return self.y\r\n",
        "        "
      ],
      "execution_count": 70,
      "outputs": []
    },
    {
      "cell_type": "markdown",
      "metadata": {
        "id": "znvdctqF-Wu0"
      },
      "source": [
        "Decision Trees"
      ]
    },
    {
      "cell_type": "code",
      "metadata": {
        "id": "QH8yp7n_xCWw"
      },
      "source": [
        "# Cost functions for evaluating partitions\n",
        "def classification_cost(y_vector):\n",
        "    counts = np.bincount(y_vector) \n",
        "    class_probs = counts / np.sum(counts)\n",
        "    return 1 - np.max(class_probs)\n",
        "\n",
        "def cost_entropy(labels):\n",
        "    class_probs = np.bincount(labels) / len(labels)\n",
        "    class_probs = class_probs[class_probs > 0]              \n",
        "    return -np.sum(class_probs * np.log(class_probs))\n",
        "\n",
        "def cost_gini_index(labels):\n",
        "    class_probs = np.bincount(labels) / len(labels)\n",
        "    return 1 - np.sum(np.square(class_probs)) \n",
        "\n",
        "\n",
        "# Helper function that performs the partition given the feature number and the line to split at\n",
        "def perform_partition(x_matrix, feature, critical_value):\n",
        "    feature_vector = x_matrix[:,feature]\n",
        "    \n",
        "    all_indices = np.arange(0, feature_vector.shape[0])\n",
        "    left_indices = np.argwhere(feature_vector <= critical_value).flatten()\n",
        "    right_indices = np.setdiff1d(all_indices, left_indices)\n",
        "\n",
        "    \n",
        "    return left_indices, right_indices\n",
        "\n",
        "# Helper function to fin the best partition\n",
        "# This is the fucker who cant partition a list of size 2\n",
        "def find_best_partition(x_matrix, y_vector, cost_fct):\n",
        "    observation_amount, predictor_amount = x_matrix.shape\n",
        "    \n",
        "    best_cost = np.inf\n",
        "    best_feature = None\n",
        "    best_value = None\n",
        "    best_left = None\n",
        "    best_right = None\n",
        "        \n",
        "    for predictor in range(predictor_amount):\n",
        "        for value in range(observation_amount):\n",
        "            left_indices, right_indices = perform_partition(x_matrix, predictor, value)\n",
        "            \n",
        "            # Avoiding partitions that do nothing\n",
        "            if left_indices.shape[0] == 0 or right_indices.shape[0] == 0:\n",
        "                continue\n",
        "            \n",
        "            total_nodes = x_matrix.shape[0]\n",
        "            left_cost = left_indices.shape[0]/total_nodes*cost_fct(y_vector[left_indices])\n",
        "            right_cost = right_indices.shape[0]/total_nodes*cost_fct(y_vector[right_indices])\n",
        "            \n",
        "            if left_cost + right_cost <= best_cost:\n",
        "                best_cost = left_cost + right_cost\n",
        "                best_feature = predictor\n",
        "                best_value = value\n",
        "                best_left = left_indices\n",
        "                best_right = right_indices\n",
        "    \n",
        "    return best_feature, best_value, best_cost, best_left, best_right\n",
        "    \n",
        "\n",
        "class Node:\n",
        "    \n",
        "    def __init__(self, x_matrix, y_vector, cost_fct, depth, max_depth, parent, improvement_cutoff):\n",
        "        \n",
        "        assert depth <= max_depth\n",
        "        \n",
        "        self.depth=depth\n",
        "        \n",
        "        self.left_child = None\n",
        "        self.right_child = None\n",
        "        self.parent = parent\n",
        "        self.tested_feature = None\n",
        "        self.critical_value = None\n",
        "        self.x = x_matrix\n",
        "        self.y = y_vector\n",
        "        self.cost = cost_fct(y_vector)\n",
        "        \n",
        "        # i.e. this node is a leaf\n",
        "        if depth == max_depth:\n",
        "            return\n",
        "        \n",
        "        best_feature, best_value, partition_cost, left_indices, right_indices  = find_best_partition(x_matrix, y_vector, cost_fct)\n",
        "        \n",
        "        # if we couldn't find a legit partition, we make this a leaf\n",
        "        if best_feature is None:\n",
        "            return\n",
        "        \n",
        "        # again, this is a leaf\n",
        "        if self.cost - partition_cost < improvement_cutoff:\n",
        "            return\n",
        "        \n",
        "        # if we make it here, this means we have an internal node\n",
        "        self.left_child = Node(x_matrix[left_indices,:], y_vector[left_indices], cost_fct, self.depth+1, max_depth, self, improvement_cutoff)\n",
        "        self.right_child = Node(x_matrix[right_indices,:], y_vector[right_indices], cost_fct, self.depth+1, max_depth, self, improvement_cutoff)\n",
        "        self.tested_feature = best_feature\n",
        "        self.critical_value = best_value\n",
        "    \n",
        "    \n",
        "    # predicts a single label for some x-vector\n",
        "    def predict_point(self, x_vector):\n",
        "        # If this node is a leaf, we need to predict\n",
        "        if self.left_child is None and self.right_child is None:\n",
        "            counts = np.bincount(self.y) \n",
        "            prediction = np.argmax(counts)\n",
        "            certainty = np.max(counts / np.sum(counts))\n",
        "            return prediction, certainty\n",
        "\n",
        "        # if not, delegate the call to the children\n",
        "        else:\n",
        "            if x_vector[self.tested_feature] <= self.critical_value:\n",
        "                return self.left_child.predict_point(x_vector)\n",
        "            else:\n",
        "                return self.right_child.predict_point(x_vector)\n",
        "    \n",
        "    def predict(self, x_matrix):\n",
        "        predictions = np.apply_along_axis(self.predict_point, 1, x_matrix)\n",
        "        \n",
        "        return predictions\n",
        "    \n",
        "    \n",
        "    def get_height(self):\n",
        "        if self.left_child is None and self.right_child is None:\n",
        "            return 0\n",
        "        else:\n",
        "            return 1 + max(self.left_child.get_height(), self.right_child.get_height())\n",
        "    \n",
        "    \n",
        "    def get_leaf_list(self):\n",
        "         if self.left_child is None and self.right_child is None:\n",
        "            return [self]\n",
        "         else:\n",
        "            return [] + self.left_child.get_leaf_list() + self.right_child.get_leaf_list()\n",
        "    \n",
        "    def get_internal_list(self):\n",
        "        # If the node is a leaf\n",
        "        if self.left_child is None and self.right_child is None:\n",
        "            return []\n",
        "        else:\n",
        "            return [self] + self.left_child.get_internal_list() + self.right_child.get_internal_list()\n",
        "    \n",
        "    def get_all_nodes(self):\n",
        "        return self.get_leaf_list() + self.get_internal_list()\n",
        "\n",
        "    def convert_to_leaf(self):\n",
        "        self.left_child = None\n",
        "        self.right_child = None\n",
        "        self.tested_feature = None\n",
        "        self.critical_value = None\n",
        "\n",
        "\n",
        "class DecisionTree:\n",
        "    def __init__(self, cost_fct, max_depth, improvement_cutoff = -0.001):\n",
        "        self.cost_fct = cost_fct\n",
        "        self.max_depth = max_depth\n",
        "        self.improvement_cutoff = improvement_cutoff\n",
        "        self.root = None\n",
        "    \n",
        "    def fit(self, x_matrix, y_vector):\n",
        "        self.root = Node(x_matrix, y_vector, self.cost_fct, 0, self.max_depth, None, self.improvement_cutoff)\n",
        "    \n",
        "    def predict(self, x_matrix):\n",
        "        return self.root.predict(x_matrix)\n",
        "    \n",
        "    # returns a copy of the tree, with the least costly node converted into a leaf\n",
        "    def prune_best_node(self):\n",
        "        tree_copy = copy.deepcopy(self)\n",
        "        int_nodes = tree_copy.root.get_internal_list()\n",
        "        n = tree_copy.root.y.shape[0]\n",
        "        \n",
        "        # Sort the nodes by the smallest increase in cost\n",
        "        int_nodes.sort(key= lambda node: node.cost*node.y.shape[0]/n)\n",
        "        \n",
        "        \n",
        "        int_nodes[0].convert_to_leaf()\n",
        "        return tree_copy\n",
        "\n",
        "    # returns a list of trees, each one being a pruned version of the last\n",
        "    # ALSO RETURNS THE INITIAL TREE\n",
        "    def prune(self):\n",
        "        if len(self.root.get_internal_list()) == 0:\n",
        "            return [self]\n",
        "        else:\n",
        "            pruned_once = self.prune_best_node()\n",
        "            return [self] + pruned_once.prune()\n",
        "    \n",
        "    # gets the cost of the whole \n",
        "    def get_cost(self):\n",
        "        leaves = self.root.get_leaf_list()\n",
        "        total_cost = 0\n",
        "        n = self.root.y.shape[0]\n",
        "    \n",
        "        for leaf in leaves:\n",
        "            total_cost += leaf.cost*leaf.y.shape[0]/n\n",
        "        \n",
        "        return total_cost\n",
        "    \n",
        "\n",
        "    def get_x(self):\n",
        "        return self.root.x\n",
        "    \n",
        "    def get_y(self):\n",
        "        return self.root.y\n",
        "\n",
        "# Testing code\n",
        "def evaluate_acc(predicted_ys, true_ys):\n",
        "    success_vector = np.equal(predicted_ys, true_ys)\n",
        "    \n",
        "    return np.count_nonzero(success_vector)/success_vector.shape[0]\n",
        "\n",
        "          \n",
        "def test_KNN_diff_k(training_x, training_y, testing_x, testing_y, k_list, distance_fct):\n",
        "    output = []\n",
        "    for k in k_list:\n",
        "        temp_model = KNN(k=k, distance_fct=distance_fct)\n",
        "        temp_model.fit(training_x, training_y)\n",
        "        temp_preds = temp_model.predict(testing_x)[:,0]\n",
        "        accuracy = evaluate_acc(temp_preds, testing_y)\n",
        "        output.append([k, accuracy])\n",
        "    \n",
        "    return np.array(output)\n",
        "\n",
        "# NO PRUNING HAPPENS HERE\n",
        "def test_DTree_diff_depth(training_x, training_y, testing_x, testing_y, depth_list, cost_fct, improvement_cutoff=0):\n",
        "    output = []\n",
        "    for d in depth_list:\n",
        "        temp_model = DecisionTree(cost_fct, d, improvement_cutoff=improvement_cutoff)\n",
        "        temp_model.fit(training_x, training_y)\n",
        "        temp_preds = temp_model.predict(testing_x)[:,0]\n",
        "        accuracy = evaluate_acc(temp_preds, testing_y)\n",
        "        output.append([d, accuracy])\n",
        "        \n",
        "    return np.array(output)\n",
        "\n",
        "# Produces the data points to create the graph on the pruning slide\n",
        "def test_DTree_pruning(training_x, training_y, testing_x, testing_y, d, cost_fct, improvement_cutoff=0):\n",
        "    dtree = DecisionTree(cost_fct, d, improvement_cutoff=improvement_cutoff)\n",
        "    dtree.fit(training_x, training_y)\n",
        "    \n",
        "    pruned_trees = dtree.prune()\n",
        "    output = []\n",
        "    for tree in pruned_trees:\n",
        "        cost = evaluate_acc(tree.predict(testing_x)[:,0], testing_y)\n",
        "        output.append([len(tree.root.get_internal_list()), 1 -cost])\n",
        "    \n",
        "    return np.array(output)\n",
        "\n"
      ],
      "execution_count": 71,
      "outputs": []
    },
    {
      "cell_type": "markdown",
      "metadata": {
        "id": "DSegesog-beK"
      },
      "source": [
        "### Breast Cancer Dataset"
      ]
    },
    {
      "cell_type": "markdown",
      "metadata": {
        "id": "-0z481GGX-EO"
      },
      "source": [
        "Plotting the accuracy on the validation set versus the value of K"
      ]
    },
    {
      "cell_type": "code",
      "metadata": {
        "colab": {
          "base_uri": "https://localhost:8080/",
          "height": 283
        },
        "id": "Lc1nQindWVQy",
        "outputId": "0ff2e337-deb2-404b-932c-d100961aba23"
      },
      "source": [
        "euclid_acc = test_KNN_diff_k(X_bc_train_mat, Y_bc_train_mat, X_bc_val_mat, Y_bc_val_mat,[1,5,10,25,50,100], euclidean_dist)\r\n",
        "manhattan_acc = test_KNN_diff_k(X_bc_train_mat, Y_bc_train_mat, X_bc_val_mat, Y_bc_val_mat,[1,5,10,25,50,100], manhattan_dist)\r\n",
        "mink_acc = test_KNN_diff_k(X_bc_train_mat, Y_bc_train_mat, X_bc_val_mat, Y_bc_val_mat,[1,5,10,25,50,100], minkowski_dist) # Minkowski distance with p = 3\r\n",
        "\r\n",
        "plt.scatter(euclid_acc[:,0], euclid_acc[:,1])\r\n",
        "plt.plot(euclid_acc[:,0], euclid_acc[:,1], label=\"Euclidean\")\r\n",
        "plt.scatter(manhattan_acc[:,0], manhattan_acc[:,1])\r\n",
        "plt.plot(manhattan_acc[:,0], manhattan_acc[:,1], label=\"Manhattan\")\r\n",
        "plt.scatter(mink_acc[:,0], mink_acc[:,1])\r\n",
        "plt.plot(mink_acc[:,0], mink_acc[:,1], label=\"Minkowski\")\r\n",
        "plt.legend(loc=\"upper right\")\r\n",
        "plt.xlabel(\"K\")\r\n",
        "plt.ylabel(\"Accuracy\")\r\n",
        "plt.show()"
      ],
      "execution_count": 72,
      "outputs": [
        {
          "output_type": "display_data",
          "data": {
            "image/png": "[encoded data removed]",
            "text/plain": [
              "<Figure size 432x288 with 1 Axes>"
            ]
          },
          "metadata": {
            "tags": [],
            "needs_background": "light"
          }
        }
      ]
    },
    {
      "cell_type": "markdown",
      "metadata": {
        "id": "zCQyKBCS6dEN"
      },
      "source": [
        "K=10 has highest accuracy for all 3 distances\n",
        "- Use K=10 and Euclidean Distance"
      ]
    },
    {
      "cell_type": "markdown",
      "metadata": {
        "id": "XmuETtpAEVLG"
      },
      "source": [
        "Our training accuracy:"
      ]
    },
    {
      "cell_type": "code",
      "metadata": {
        "colab": {
          "base_uri": "https://localhost:8080/"
        },
        "id": "SJiYO5zQEbsf",
        "outputId": "51ace5da-a40d-4bd7-e51f-db255cb1dd72"
      },
      "source": [
        "test_KNN_diff_k(X_bc_train_mat, Y_bc_train_mat, X_bc_train_mat, Y_bc_train_mat, [10], euclidean_dist)"
      ],
      "execution_count": 73,
      "outputs": [
        {
          "output_type": "execute_result",
          "data": {
            "text/plain": [
              "array([[10.        ,  0.97477064]])"
            ]
          },
          "metadata": {
            "tags": []
          },
          "execution_count": 73
        }
      ]
    },
    {
      "cell_type": "markdown",
      "metadata": {
        "id": "Aty88JFMEZEH"
      },
      "source": [
        "Our testing accuracy:"
      ]
    },
    {
      "cell_type": "code",
      "metadata": {
        "colab": {
          "base_uri": "https://localhost:8080/"
        },
        "id": "6RfCjM6U772t",
        "outputId": "142d96c2-6edc-472c-fd11-cd44db95426c"
      },
      "source": [
        "test_KNN_diff_k(X_bc_train_mat, Y_bc_train_mat, X_bc_test_mat, Y_bc_test_mat, [10], euclidean_dist)"
      ],
      "execution_count": 74,
      "outputs": [
        {
          "output_type": "execute_result",
          "data": {
            "text/plain": [
              "array([[10.        ,  0.97810219]])"
            ]
          },
          "metadata": {
            "tags": []
          },
          "execution_count": 74
        }
      ]
    },
    {
      "cell_type": "markdown",
      "metadata": {
        "id": "fP2EfnnCbg60"
      },
      "source": [
        "Plotting the accuracy of different Decision Trees versus their maximum depth (Note: no pruning has occurred)  "
      ]
    },
    {
      "cell_type": "code",
      "metadata": {
        "colab": {
          "base_uri": "https://localhost:8080/",
          "height": 279
        },
        "id": "4WORctlyakMA",
        "outputId": "323edd0b-bf0e-4720-acb1-6848e9b99c03"
      },
      "source": [
        "missclass_acc = test_DTree_diff_depth(X_bc_train_mat, Y_bc_train_mat, X_bc_val_mat, Y_bc_val_mat, [1,2,3,4,5,6,7,8,9,10], classification_cost)\r\n",
        "entropy_acc = test_DTree_diff_depth(X_bc_train_mat, Y_bc_train_mat, X_bc_val_mat, Y_bc_val_mat, [1,2,3,4,5,6,7,8,9,10], cost_entropy)\r\n",
        "gini_acc = test_DTree_diff_depth(X_bc_train_mat, Y_bc_train_mat, X_bc_val_mat, Y_bc_val_mat, [1,2,3,4,5,6,7,8,9,10], cost_gini_index)\r\n",
        "\r\n",
        "plt.scatter(missclass_acc[:,0], missclass_acc[:,1])\r\n",
        "plt.plot(missclass_acc[:,0], missclass_acc[:,1], label=\"Missclassification\")\r\n",
        "plt.scatter(entropy_acc[:,0], entropy_acc[:,1])\r\n",
        "plt.plot(entropy_acc[:,0], entropy_acc[:,1], label=\"Entropy\")\r\n",
        "plt.scatter(gini_acc[:,0], gini_acc[:,1])\r\n",
        "plt.plot(gini_acc[:,0], gini_acc[:,1], label=\"Gini Index\")\r\n",
        "plt.legend(loc=\"upper right\")\r\n",
        "plt.xlabel(\"Max depth\")\r\n",
        "plt.ylabel(\"Accuracy\")\r\n",
        "plt.show()"
      ],
      "execution_count": 75,
      "outputs": [
        {
          "output_type": "display_data",
          "data": {
            "image/png": "[encoded data removed]",
            "text/plain": [
              "<Figure size 432x288 with 1 Axes>"
            ]
          },
          "metadata": {
            "tags": [],
            "needs_background": "light"
          }
        }
      ]
    },
    {
      "cell_type": "code",
      "metadata": {
        "colab": {
          "base_uri": "https://localhost:8080/"
        },
        "id": "u9zPpTqCpXGS",
        "outputId": "c1efa413-6cea-489f-b751-73c10d4d692c"
      },
      "source": [
        "test_DTree_diff_depth(X_bc_train_mat, Y_bc_train_mat, X_bc_train_mat, Y_bc_train_mat, [4], cost_gini_index)"
      ],
      "execution_count": 76,
      "outputs": [
        {
          "output_type": "execute_result",
          "data": {
            "text/plain": [
              "array([[4.        , 0.98623853]])"
            ]
          },
          "metadata": {
            "tags": []
          },
          "execution_count": 76
        }
      ]
    },
    {
      "cell_type": "code",
      "metadata": {
        "colab": {
          "base_uri": "https://localhost:8080/"
        },
        "id": "NO0fHFIICGKs",
        "outputId": "e6a828e2-cd22-46d1-85ba-07136630cc72"
      },
      "source": [
        "test_DTree_diff_depth(X_bc_train_mat, Y_bc_train_mat, X_bc_test_mat, Y_bc_test_mat, [4], cost_gini_index)"
      ],
      "execution_count": 77,
      "outputs": [
        {
          "output_type": "execute_result",
          "data": {
            "text/plain": [
              "array([[4.        , 0.95620438]])"
            ]
          },
          "metadata": {
            "tags": []
          },
          "execution_count": 77
        }
      ]
    },
    {
      "cell_type": "markdown",
      "metadata": {
        "id": "l7T63oAIcfZv"
      },
      "source": [
        "Examining the effect of pruning the tree (With max depth=4)"
      ]
    },
    {
      "cell_type": "code",
      "metadata": {
        "id": "zTM_6TB-b4nb"
      },
      "source": [
        "missclass_pruning = test_DTree_pruning(X_bc_train_mat, Y_bc_train_mat, X_bc_val_mat, Y_bc_val_mat, 4, classification_cost)\r\n",
        "entropy_pruning = test_DTree_pruning(X_bc_train_mat, Y_bc_train_mat, X_bc_val_mat, Y_bc_val_mat, 4, cost_entropy)\r\n",
        "gini_pruning = test_DTree_pruning(X_bc_train_mat, Y_bc_train_mat, X_bc_val_mat, Y_bc_val_mat, 4, cost_gini_index)"
      ],
      "execution_count": 78,
      "outputs": []
    },
    {
      "cell_type": "code",
      "metadata": {
        "colab": {
          "base_uri": "https://localhost:8080/",
          "height": 279
        },
        "id": "O9jZ3_3JdO4X",
        "outputId": "abc647da-eafe-4117-a486-f5943b7a810a"
      },
      "source": [
        "plt.scatter(missclass_pruning[:,0], missclass_pruning[:,1])\r\n",
        "plt.plot(missclass_pruning[:,0], missclass_pruning[:,1], label=\"Missclassification\")\r\n",
        "plt.scatter(entropy_pruning[:,0], entropy_pruning[:,1])\r\n",
        "plt.plot(entropy_pruning[:,0], entropy_pruning[:,1], label=\"Entropy\")\r\n",
        "plt.scatter(gini_pruning[:,0], gini_pruning[:,1])\r\n",
        "plt.plot(gini_pruning[:,0], gini_pruning[:,1], label=\"Gini Index\")\r\n",
        "plt.legend(loc=\"upper right\")\r\n",
        "plt.xlabel(\"Internal Nodes\")\r\n",
        "plt.ylabel(\"Cost\")\r\n",
        "plt.show()"
      ],
      "execution_count": 79,
      "outputs": [
        {
          "output_type": "display_data",
          "data": {
            "image/png": "[encoded data removed]",
            "text/plain": [
              "<Figure size 432x288 with 1 Axes>"
            ]
          },
          "metadata": {
            "tags": [],
            "needs_background": "light"
          }
        }
      ]
    },
    {
      "cell_type": "markdown",
      "metadata": {
        "id": "R5HdWL0M-gYA"
      },
      "source": [
        "### Hepatitis Dataset"
      ]
    },
    {
      "cell_type": "markdown",
      "metadata": {
        "id": "nQO_w5ue-vPq"
      },
      "source": [
        "The First One: With the column (ALKPHOSPHATE) "
      ]
    },
    {
      "cell_type": "code",
      "metadata": {
        "colab": {
          "base_uri": "https://localhost:8080/",
          "height": 279
        },
        "id": "TmZg9qbZ-lxR",
        "outputId": "08bad004-84aa-4e28-e832-d8c014b0de8e"
      },
      "source": [
        "euclid_acc = test_KNN_diff_k(X_train_mat_1, Y_train_mat_1, X_val_mat_1, Y_val_mat_1, [1,5,10,15,20,25,50], euclidean_dist)\n",
        "manhattan_acc = test_KNN_diff_k(X_train_mat_1, Y_train_mat_1, X_val_mat_1, Y_val_mat_1,[1,5,10,15,20,25,50], manhattan_dist)\n",
        "mink_acc = test_KNN_diff_k(X_train_mat_1, Y_train_mat_1, X_val_mat_1, Y_val_mat_1,[1,5,10,15,20,25,50], minkowski_dist) # Minkowski distance with p = 3\n",
        "\n",
        "plt.scatter(euclid_acc[:,0], euclid_acc[:,1])\n",
        "plt.plot(euclid_acc[:,0], euclid_acc[:,1], label=\"Euclidean\")\n",
        "plt.scatter(manhattan_acc[:,0], manhattan_acc[:,1])\n",
        "plt.plot(manhattan_acc[:,0], manhattan_acc[:,1], label=\"Manhattan\")\n",
        "plt.scatter(mink_acc[:,0], mink_acc[:,1])\n",
        "plt.plot(mink_acc[:,0], mink_acc[:,1], label=\"Minkowski\")\n",
        "plt.legend(loc=\"upper right\")\n",
        "plt.xlabel(\"K\")\n",
        "plt.ylabel(\"Accuracy\")\n",
        "plt.show()"
      ],
      "execution_count": 80,
      "outputs": [
        {
          "output_type": "display_data",
          "data": {
            "image/png": "[encoded data removed]",
            "text/plain": [
              "<Figure size 432x288 with 1 Axes>"
            ]
          },
          "metadata": {
            "tags": [],
            "needs_background": "light"
          }
        }
      ]
    },
    {
      "cell_type": "markdown",
      "metadata": {
        "id": "5zmaPdXfCRO-"
      },
      "source": [
        "Manhattan Distance, K=5"
      ]
    },
    {
      "cell_type": "markdown",
      "metadata": {
        "id": "s3Jx1n9rEzrz"
      },
      "source": [
        "Our training accuracy:"
      ]
    },
    {
      "cell_type": "code",
      "metadata": {
        "id": "Zc4r4vRaFN8E",
        "colab": {
          "base_uri": "https://localhost:8080/"
        },
        "outputId": "0475d1af-e214-4a26-ce89-81faf1bc533c"
      },
      "source": [
        "test_KNN_diff_k(X_train_mat_1, Y_train_mat_1, X_train_mat_1, Y_train_mat_1, [5], manhattan_dist)"
      ],
      "execution_count": 81,
      "outputs": [
        {
          "output_type": "execute_result",
          "data": {
            "text/plain": [
              "array([[5.        , 0.83098592]])"
            ]
          },
          "metadata": {
            "tags": []
          },
          "execution_count": 81
        }
      ]
    },
    {
      "cell_type": "markdown",
      "metadata": {
        "id": "YaTiFB01Ewsg"
      },
      "source": [
        "Our testing accuracy:"
      ]
    },
    {
      "cell_type": "code",
      "metadata": {
        "id": "o7alTvwcChz1",
        "colab": {
          "base_uri": "https://localhost:8080/"
        },
        "outputId": "07a8d21c-505f-4bb5-9ad0-8e491f3f6584"
      },
      "source": [
        "test_KNN_diff_k(X_train_mat_1, Y_train_mat_1, X_test_mat_1, Y_test_mat_1, [5], manhattan_dist)"
      ],
      "execution_count": 82,
      "outputs": [
        {
          "output_type": "execute_result",
          "data": {
            "text/plain": [
              "array([[5.       , 0.7826087]])"
            ]
          },
          "metadata": {
            "tags": []
          },
          "execution_count": 82
        }
      ]
    },
    {
      "cell_type": "markdown",
      "metadata": {
        "id": "Q-aWsEtNAxO9"
      },
      "source": [
        "The Second One (Without the alkphaspate)"
      ]
    },
    {
      "cell_type": "code",
      "metadata": {
        "colab": {
          "base_uri": "https://localhost:8080/",
          "height": 279
        },
        "id": "9hkRqHQyAw8_",
        "outputId": "3322a6d4-f180-4079-d67d-22db4ba1ae8c"
      },
      "source": [
        "euclid_acc = test_KNN_diff_k(X_train_mat_2, Y_train_mat_2, X_val_mat_2, Y_val_mat_2, [1,5,10,15,20,25,50], euclidean_dist)\n",
        "manhattan_acc = test_KNN_diff_k(X_train_mat_2, Y_train_mat_2, X_val_mat_2, Y_val_mat_2, [1,5,10,15,20,25,50], manhattan_dist)\n",
        "mink_acc = test_KNN_diff_k(X_train_mat_2, Y_train_mat_2, X_val_mat_2, Y_val_mat_2, [1,5,10,15,20,25,50], minkowski_dist) # Minkowski distance with p = 3\n",
        "\n",
        "plt.scatter(euclid_acc[:,0], euclid_acc[:,1])\n",
        "plt.plot(euclid_acc[:,0], euclid_acc[:,1], label=\"Euclidean\")\n",
        "plt.scatter(manhattan_acc[:,0], manhattan_acc[:,1])\n",
        "plt.plot(manhattan_acc[:,0], manhattan_acc[:,1], label=\"Manhattan\")\n",
        "plt.scatter(mink_acc[:,0], mink_acc[:,1])\n",
        "plt.plot(mink_acc[:,0], mink_acc[:,1], label=\"Minkowski\")\n",
        "plt.legend(loc=\"upper right\")\n",
        "plt.xlabel(\"K\")\n",
        "plt.ylabel(\"Accuracy\")\n",
        "plt.show()"
      ],
      "execution_count": 83,
      "outputs": [
        {
          "output_type": "display_data",
          "data": {
            "image/png": "[encoded data removed]",
            "text/plain": [
              "<Figure size 432x288 with 1 Axes>"
            ]
          },
          "metadata": {
            "tags": [],
            "needs_background": "light"
          }
        }
      ]
    },
    {
      "cell_type": "markdown",
      "metadata": {
        "id": "RLC9FtvsDJE4"
      },
      "source": [
        "Any of the distances would do, K=10"
      ]
    },
    {
      "cell_type": "markdown",
      "metadata": {
        "id": "97lR2C82Fb2b"
      },
      "source": [
        "Our training accuracy:"
      ]
    },
    {
      "cell_type": "code",
      "metadata": {
        "colab": {
          "base_uri": "https://localhost:8080/"
        },
        "id": "9ljAmcKJFd1q",
        "outputId": "24383c82-cb67-4ff4-bda9-a6f90a8009f7"
      },
      "source": [
        "test_KNN_diff_k(X_train_mat_2, Y_train_mat_2, X_train_mat_2, Y_train_mat_2, [10], euclidean_dist)"
      ],
      "execution_count": 84,
      "outputs": [
        {
          "output_type": "execute_result",
          "data": {
            "text/plain": [
              "array([[10.        ,  0.84146341]])"
            ]
          },
          "metadata": {
            "tags": []
          },
          "execution_count": 84
        }
      ]
    },
    {
      "cell_type": "markdown",
      "metadata": {
        "id": "lVIH581nFZda"
      },
      "source": [
        "Our testing accuracy:"
      ]
    },
    {
      "cell_type": "code",
      "metadata": {
        "colab": {
          "base_uri": "https://localhost:8080/"
        },
        "id": "OShXb2zZDJaE",
        "outputId": "607e4a04-481a-4096-b24c-d94ffe103b85"
      },
      "source": [
        "test_KNN_diff_k(X_train_mat_2, Y_train_mat_2, X_test_mat_2, Y_test_mat_2, [10], euclidean_dist)"
      ],
      "execution_count": 85,
      "outputs": [
        {
          "output_type": "execute_result",
          "data": {
            "text/plain": [
              "array([[10.        ,  0.76923077]])"
            ]
          },
          "metadata": {
            "tags": []
          },
          "execution_count": 85
        }
      ]
    },
    {
      "cell_type": "markdown",
      "metadata": {
        "id": "NHOP06Kc1weW"
      },
      "source": [
        "Decision Tree on Set 1 with the column"
      ]
    },
    {
      "cell_type": "code",
      "metadata": {
        "colab": {
          "base_uri": "https://localhost:8080/",
          "height": 280
        },
        "id": "sU7W_606ANYA",
        "outputId": "efd7faad-2b29-427a-a2c9-374e9c50ae4c"
      },
      "source": [
        "missclass_acc = test_DTree_diff_depth(X_train_mat_1, Y_train_mat_1, X_val_mat_1, Y_val_mat_1, [1,2,3,4,5,6,7,8,9,10], classification_cost)\n",
        "entropy_acc = test_DTree_diff_depth(X_train_mat_1, Y_train_mat_1, X_val_mat_1, Y_val_mat_1, [1,2,3,4,5,6,7,8,9,10], cost_entropy)\n",
        "gini_acc = test_DTree_diff_depth(X_train_mat_1, Y_train_mat_1, X_val_mat_1, Y_val_mat_1, [1,2,3,4,5,6,7,8,9,10], cost_gini_index)\n",
        "\n",
        "plt.scatter(missclass_acc[:,0], missclass_acc[:,1])\n",
        "plt.plot(missclass_acc[:,0], missclass_acc[:,1], label=\"Missclassification\")\n",
        "plt.scatter(entropy_acc[:,0], entropy_acc[:,1])\n",
        "plt.plot(entropy_acc[:,0], entropy_acc[:,1], label=\"Entropy\")\n",
        "plt.scatter(gini_acc[:,0], gini_acc[:,1])\n",
        "plt.plot(gini_acc[:,0], gini_acc[:,1], label=\"Gini Index\")\n",
        "plt.legend(loc=\"upper right\")\n",
        "plt.xlabel(\"Max depth\")\n",
        "plt.ylabel(\"Accuracy\")\n",
        "plt.show()"
      ],
      "execution_count": 86,
      "outputs": [
        {
          "output_type": "display_data",
          "data": {
            "image/png": "[encoded data removed]",
            "text/plain": [
              "<Figure size 432x288 with 1 Axes>"
            ]
          },
          "metadata": {
            "tags": [],
            "needs_background": "light"
          }
        }
      ]
    },
    {
      "cell_type": "code",
      "metadata": {
        "colab": {
          "base_uri": "https://localhost:8080/"
        },
        "id": "Zh9Rurr8xIbc",
        "outputId": "711a6050-20fb-46f5-ca62-98f2ddec7075"
      },
      "source": [
        "test_DTree_diff_depth(X_train_mat_1, Y_train_mat_1, X_train_mat_1, Y_train_mat_1, [3], classification_cost)"
      ],
      "execution_count": 87,
      "outputs": [
        {
          "output_type": "execute_result",
          "data": {
            "text/plain": [
              "array([[3.        , 0.90140845]])"
            ]
          },
          "metadata": {
            "tags": []
          },
          "execution_count": 87
        }
      ]
    },
    {
      "cell_type": "code",
      "metadata": {
        "colab": {
          "base_uri": "https://localhost:8080/"
        },
        "id": "dfnTdy_WUQlJ",
        "outputId": "26996c91-4f71-4ebb-a7b6-a498ab2c5e9c"
      },
      "source": [
        "test_DTree_diff_depth(X_train_mat_1, Y_train_mat_1, X_test_mat_1, Y_test_mat_1, [3], classification_cost)"
      ],
      "execution_count": 88,
      "outputs": [
        {
          "output_type": "execute_result",
          "data": {
            "text/plain": [
              "array([[3.        , 0.69565217]])"
            ]
          },
          "metadata": {
            "tags": []
          },
          "execution_count": 88
        }
      ]
    },
    {
      "cell_type": "markdown",
      "metadata": {
        "id": "YY2KlVrs4NTy"
      },
      "source": [
        "Decision tree with set 2 (No extra column)"
      ]
    },
    {
      "cell_type": "code",
      "metadata": {
        "colab": {
          "base_uri": "https://localhost:8080/",
          "height": 279
        },
        "id": "2dTP1zgrBVN1",
        "outputId": "2d32583f-0073-42e5-a691-cbd7b643a7d9"
      },
      "source": [
        "missclass_acc = test_DTree_diff_depth(X_train_mat_2, Y_train_mat_2, X_val_mat_2, Y_val_mat_2, [1,2,3,4,5,6,7,8,9,10], classification_cost)\n",
        "entropy_acc = test_DTree_diff_depth(X_train_mat_2, Y_train_mat_2, X_val_mat_2, Y_val_mat_2, [1,2,3,4,5,6,7,8,9,10], cost_entropy)\n",
        "gini_acc = test_DTree_diff_depth(X_train_mat_2, Y_train_mat_2, X_val_mat_2, Y_val_mat_2, [1,2,3,4,5,6,7,8,9,10], cost_gini_index)\n",
        "\n",
        "plt.scatter(missclass_acc[:,0], missclass_acc[:,1])\n",
        "plt.plot(missclass_acc[:,0], missclass_acc[:,1], label=\"Missclassification\")\n",
        "plt.scatter(entropy_acc[:,0], entropy_acc[:,1])\n",
        "plt.plot(entropy_acc[:,0], entropy_acc[:,1], label=\"Entropy\")\n",
        "plt.scatter(gini_acc[:,0], gini_acc[:,1])\n",
        "plt.plot(gini_acc[:,0], gini_acc[:,1], label=\"Gini Index\")\n",
        "plt.legend(loc=\"upper right\")\n",
        "plt.xlabel(\"Max depth\")\n",
        "plt.ylabel(\"Accuracy\")\n",
        "plt.show()"
      ],
      "execution_count": 89,
      "outputs": [
        {
          "output_type": "display_data",
          "data": {
            "image/png": "[encoded data removed]",
            "text/plain": [
              "<Figure size 432x288 with 1 Axes>"
            ]
          },
          "metadata": {
            "tags": [],
            "needs_background": "light"
          }
        }
      ]
    },
    {
      "cell_type": "code",
      "metadata": {
        "colab": {
          "base_uri": "https://localhost:8080/"
        },
        "id": "AM6cF9l2zmM9",
        "outputId": "c686a20a-bfe4-4b4c-d3e8-a4583e947e47"
      },
      "source": [
        "test_DTree_diff_depth(X_train_mat_2, Y_train_mat_2, X_train_mat_2, Y_train_mat_2, [3], classification_cost)"
      ],
      "execution_count": 90,
      "outputs": [
        {
          "output_type": "execute_result",
          "data": {
            "text/plain": [
              "array([[3.        , 0.90243902]])"
            ]
          },
          "metadata": {
            "tags": []
          },
          "execution_count": 90
        }
      ]
    },
    {
      "cell_type": "code",
      "metadata": {
        "colab": {
          "base_uri": "https://localhost:8080/"
        },
        "id": "_gmZmK54UDBX",
        "outputId": "a9225e7f-d8ad-44d4-9e08-e5e3d1714c5d"
      },
      "source": [
        "test_DTree_diff_depth(X_train_mat_2, Y_train_mat_2, X_test_mat_2, Y_test_mat_2, [3], classification_cost)"
      ],
      "execution_count": 91,
      "outputs": [
        {
          "output_type": "execute_result",
          "data": {
            "text/plain": [
              "array([[3.        , 0.84615385]])"
            ]
          },
          "metadata": {
            "tags": []
          },
          "execution_count": 91
        }
      ]
    },
    {
      "cell_type": "markdown",
      "metadata": {
        "id": "X8eakdkxIP-V"
      },
      "source": [
        "## Decision Boundaries\n",
        "- TO DO"
      ]
    },
    {
      "cell_type": "code",
      "metadata": {
        "id": "rvFUl65aY4FC"
      },
      "source": [
        "def plot_decision_boundaries(model, xlabel, ylabel):\r\n",
        "    x = model.get_x()\r\n",
        "    y = model.get_y()\r\n",
        "    x0v = np.linspace(np.min(x[:,0]), np.max(x[:,0]), 200)\r\n",
        "    x1v = np.linspace(np.min(x[:,1]), np.max(x[:,1]), 200)\r\n",
        "      \r\n",
        "    #to features values as a mesh  \r\n",
        "    x0, x1 = np.meshgrid(x0v, x1v)\r\n",
        "    x_all = np.vstack((x0.ravel(),x1.ravel())).T\r\n",
        "      \r\n",
        "    plane_preds = model.predict(x_all)\r\n",
        "\r\n",
        "    plt.scatter(x=x[:,0], y=x[:,1], c=y, marker='o')\r\n",
        "    plt.scatter(x_all[:,0], x_all[:,1], c=plane_preds[:,0], marker='.', alpha=0.01)\r\n",
        "    plt.xlabel(xlabel)\r\n",
        "    plt.ylabel(ylabel)\r\n",
        "    plt.show()"
      ],
      "execution_count": 92,
      "outputs": []
    },
    {
      "cell_type": "markdown",
      "metadata": {
        "id": "fKgzbLA3ecfA"
      },
      "source": [
        "Breast Cancer Dataset\n"
      ]
    },
    {
      "cell_type": "code",
      "metadata": {
        "id": "Ju08i52xokhl",
        "colab": {
          "base_uri": "https://localhost:8080/"
        },
        "outputId": "c0fbd1c6-ed5f-4095-ede4-b22b51ad3c85"
      },
      "source": [
        "X_bc_train_val.dtypes"
      ],
      "execution_count": 93,
      "outputs": [
        {
          "output_type": "execute_result",
          "data": {
            "text/plain": [
              "Clump_Thickness                int64\n",
              "Uniformity_of_Cell_Size        int64\n",
              "Uniformity_of_Cell_Shape       int64\n",
              "Marginal_Adhesion              int64\n",
              "Single_Epithelial_Cell_Size    int64\n",
              "Bare_Nuclei                    int64\n",
              "Bland_Chromatin                int64\n",
              "Normal_Nucleoli                int64\n",
              "Mitoses                        int64\n",
              "dtype: object"
            ]
          },
          "metadata": {
            "tags": []
          },
          "execution_count": 93
        }
      ]
    },
    {
      "cell_type": "code",
      "metadata": {
        "id": "mMnBJZfLolXH",
        "colab": {
          "base_uri": "https://localhost:8080/"
        },
        "outputId": "ef5d9608-f196-4f6f-bc15-a035885af8fc"
      },
      "source": [
        "X_bc_train_val_mat.shape"
      ],
      "execution_count": 94,
      "outputs": [
        {
          "output_type": "execute_result",
          "data": {
            "text/plain": [
              "(546, 9)"
            ]
          },
          "metadata": {
            "tags": []
          },
          "execution_count": 94
        }
      ]
    },
    {
      "cell_type": "code",
      "metadata": {
        "id": "kIu3XuAU_uBn"
      },
      "source": [
        "bc_knn = KNN(k=10, distance_fct=euclidean_dist)\n",
        "bc_knn.fit(X_bc_train_val_mat[:,[1,2]],Y_bc_train_val_mat)"
      ],
      "execution_count": 95,
      "outputs": []
    },
    {
      "cell_type": "code",
      "metadata": {
        "id": "9KSYX5g-egR_",
        "colab": {
          "base_uri": "https://localhost:8080/",
          "height": 279
        },
        "outputId": "cde2c81e-6e0c-4253-8d8f-686f1d0278de"
      },
      "source": [
        " plot_decision_boundaries(bc_knn,\"Uniformity of Cell Size\", \"Uniformity of Cell Shape\")"
      ],
      "execution_count": 96,
      "outputs": [
        {
          "output_type": "display_data",
          "data": {
            "image/png": "[encoded data removed]",
            "text/plain": [
              "<Figure size 432x288 with 1 Axes>"
            ]
          },
          "metadata": {
            "tags": [],
            "needs_background": "light"
          }
        }
      ]
    },
    {
      "cell_type": "code",
      "metadata": {
        "id": "a_F0iXlAb7mx"
      },
      "source": [
        "bc_tree = DecisionTree(cost_fct=cost_gini_index, max_depth=4)\n",
        "bc_tree.fit(X_bc_train_val_mat[:,[1,2]],Y_bc_train_val_mat)"
      ],
      "execution_count": 97,
      "outputs": []
    },
    {
      "cell_type": "code",
      "metadata": {
        "colab": {
          "base_uri": "https://localhost:8080/",
          "height": 279
        },
        "id": "qAQz6Bw5b8X7",
        "outputId": "55a8f0e0-fbfe-4a43-8a1f-93bec64850e1"
      },
      "source": [
        " plot_decision_boundaries(bc_tree,\"Uniformity of Cell Size\", \"Uniformity of Cell Shape\")"
      ],
      "execution_count": 98,
      "outputs": [
        {
          "output_type": "display_data",
          "data": {
            "image/png": "[encoded data removed]",
            "text/plain": [
              "<Figure size 432x288 with 1 Axes>"
            ]
          },
          "metadata": {
            "tags": [],
            "needs_background": "light"
          }
        }
      ]
    },
    {
      "cell_type": "markdown",
      "metadata": {
        "id": "CqueVyFuMgF_"
      },
      "source": [
        "Hepatitis Dataset"
      ]
    },
    {
      "cell_type": "markdown",
      "metadata": {
        "id": "n8xsbPqueiOx"
      },
      "source": [
        "First"
      ]
    },
    {
      "cell_type": "code",
      "metadata": {
        "id": "SGe3hoRentlk",
        "colab": {
          "base_uri": "https://localhost:8080/"
        },
        "outputId": "83a594f0-cfdf-43d2-acda-459308e99497"
      },
      "source": [
        "X_train_val_1.dtypes"
      ],
      "execution_count": 99,
      "outputs": [
        {
          "output_type": "execute_result",
          "data": {
            "text/plain": [
              "AGE                  int64\n",
              "SEX                  int64\n",
              "STEROID              int64\n",
              "ANTIVIRALS           int64\n",
              "FATIGUE              int64\n",
              "MALAISE              int64\n",
              "ANOREXIA             int64\n",
              "LIVER_BIG            int64\n",
              "LIVER_FIRM           int64\n",
              "SPLEEN_PALPABLE      int64\n",
              "SPIDERS              int64\n",
              "ASCITES              int64\n",
              "VARICES              int64\n",
              "BILIRUBIN          float64\n",
              "ALK_PHOSPHATE        int64\n",
              "SGOT                 int64\n",
              "ALBUMIN            float64\n",
              "HISTOLOGY            int64\n",
              "dtype: object"
            ]
          },
          "metadata": {
            "tags": []
          },
          "execution_count": 99
        }
      ]
    },
    {
      "cell_type": "code",
      "metadata": {
        "id": "tWcsorHgoF73",
        "colab": {
          "base_uri": "https://localhost:8080/"
        },
        "outputId": "dd1c6496-889c-4963-f0ea-ce53f585285b"
      },
      "source": [
        "X_train_val_mat_1.shape"
      ],
      "execution_count": 100,
      "outputs": [
        {
          "output_type": "execute_result",
          "data": {
            "text/plain": [
              "(89, 18)"
            ]
          },
          "metadata": {
            "tags": []
          },
          "execution_count": 100
        }
      ]
    },
    {
      "cell_type": "code",
      "metadata": {
        "id": "9aky6SkmdxSb"
      },
      "source": [
        "knn_1 = KNN(k=5, distance_fct=manhattan_dist)\n",
        "knn_1.fit(X_train_val_mat_1[:,[13,16]],Y_train_val_mat_1)"
      ],
      "execution_count": 101,
      "outputs": []
    },
    {
      "cell_type": "code",
      "metadata": {
        "id": "BZ3pm7XQecHD",
        "colab": {
          "base_uri": "https://localhost:8080/",
          "height": 279
        },
        "outputId": "b7bb080d-06fa-45ba-abc5-d1945703b38a"
      },
      "source": [
        " plot_decision_boundaries(knn_1, \"BILIRUBIN\", \"ALBUMIN\")"
      ],
      "execution_count": 102,
      "outputs": [
        {
          "output_type": "display_data",
          "data": {
            "image/png": "[encoded data removed]",
            "text/plain": [
              "<Figure size 432x288 with 1 Axes>"
            ]
          },
          "metadata": {
            "tags": [],
            "needs_background": "light"
          }
        }
      ]
    },
    {
      "cell_type": "code",
      "metadata": {
        "id": "6C4tfa6yd3o3"
      },
      "source": [
        "tree_1 = DecisionTree(cost_fct=classification_cost, max_depth=3)\n",
        "tree_1.fit(X_train_val_mat_1[:,[13,16]],Y_train_val_mat_1)\n"
      ],
      "execution_count": 103,
      "outputs": []
    },
    {
      "cell_type": "code",
      "metadata": {
        "id": "cNSR8W2dechJ",
        "colab": {
          "base_uri": "https://localhost:8080/",
          "height": 279
        },
        "outputId": "30488eca-bd3d-43fb-e1c9-e1fdb160a205"
      },
      "source": [
        " plot_decision_boundaries(tree_1,\"BILIRUBIN\",\"ALBUMIN\")"
      ],
      "execution_count": 104,
      "outputs": [
        {
          "output_type": "display_data",
          "data": {
            "image/png": "[encoded data removed]",
            "text/plain": [
              "<Figure size 432x288 with 1 Axes>"
            ]
          },
          "metadata": {
            "tags": [],
            "needs_background": "light"
          }
        }
      ]
    },
    {
      "cell_type": "markdown",
      "metadata": {
        "id": "_S2r9zEzejeZ"
      },
      "source": [
        "Second"
      ]
    },
    {
      "cell_type": "code",
      "metadata": {
        "id": "p0jHCO94niHe",
        "colab": {
          "base_uri": "https://localhost:8080/"
        },
        "outputId": "7940775a-33a3-437f-a11a-c5d15a00810a"
      },
      "source": [
        "X_train_val_2.dtypes"
      ],
      "execution_count": 105,
      "outputs": [
        {
          "output_type": "execute_result",
          "data": {
            "text/plain": [
              "AGE                  int64\n",
              "SEX                  int64\n",
              "STEROID              int64\n",
              "ANTIVIRALS           int64\n",
              "FATIGUE              int64\n",
              "MALAISE              int64\n",
              "ANOREXIA             int64\n",
              "LIVER_BIG            int64\n",
              "LIVER_FIRM           int64\n",
              "SPLEEN_PALPABLE      int64\n",
              "SPIDERS              int64\n",
              "ASCITES              int64\n",
              "VARICES              int64\n",
              "BILIRUBIN          float64\n",
              "SGOT                 int64\n",
              "ALBUMIN            float64\n",
              "HISTOLOGY            int64\n",
              "dtype: object"
            ]
          },
          "metadata": {
            "tags": []
          },
          "execution_count": 105
        }
      ]
    },
    {
      "cell_type": "code",
      "metadata": {
        "id": "XprTEdFuqa-H",
        "colab": {
          "base_uri": "https://localhost:8080/"
        },
        "outputId": "c302e235-5b28-4702-ddf8-1cff8f797b0a"
      },
      "source": [
        "X_train_val_mat_2.shape"
      ],
      "execution_count": 106,
      "outputs": [
        {
          "output_type": "execute_result",
          "data": {
            "text/plain": [
              "(103, 17)"
            ]
          },
          "metadata": {
            "tags": []
          },
          "execution_count": 106
        }
      ]
    },
    {
      "cell_type": "code",
      "metadata": {
        "id": "ml4yzHxrd5bN"
      },
      "source": [
        "knn_2 = KNN(k=10, distance_fct=euclidean_dist)\n",
        "knn_2.fit(X_train_val_mat_2[:,[13,15]],Y_train_val_mat_2)"
      ],
      "execution_count": 107,
      "outputs": []
    },
    {
      "cell_type": "code",
      "metadata": {
        "id": "geH9A5UCekSi",
        "colab": {
          "base_uri": "https://localhost:8080/",
          "height": 279
        },
        "outputId": "cd2f6ad2-3f94-41b8-b45f-8e81a4f24bc0"
      },
      "source": [
        " plot_decision_boundaries(knn_2, \"BILIRUBIN\",\"ALBUMIN\")"
      ],
      "execution_count": 108,
      "outputs": [
        {
          "output_type": "display_data",
          "data": {
            "image/png": "[encoded data removed]",
            "text/plain": [
              "<Figure size 432x288 with 1 Axes>"
            ]
          },
          "metadata": {
            "tags": [],
            "needs_background": "light"
          }
        }
      ]
    },
    {
      "cell_type": "code",
      "metadata": {
        "id": "2kAWAc3Td62v"
      },
      "source": [
        "tree_2 = DecisionTree(cost_fct=classification_cost, max_depth=3)\n",
        "tree_2.fit(X_train_val_mat_2[:,[13,15]],Y_train_val_mat_2)"
      ],
      "execution_count": 109,
      "outputs": []
    },
    {
      "cell_type": "code",
      "metadata": {
        "id": "1cW5dcyxekvs",
        "colab": {
          "base_uri": "https://localhost:8080/",
          "height": 279
        },
        "outputId": "2e1a8069-2f79-4074-9f5b-b698b4da48a4"
      },
      "source": [
        " plot_decision_boundaries(tree_2, \"BILIRUBIN\",\"ALBUMIN\")"
      ],
      "execution_count": 110,
      "outputs": [
        {
          "output_type": "display_data",
          "data": {
            "image/png": "[encoded data removed]",
            "text/plain": [
              "<Figure size 432x288 with 1 Axes>"
            ]
          },
          "metadata": {
            "tags": [],
            "needs_background": "light"
          }
        }
      ]
    }
  ]
}